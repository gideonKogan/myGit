{
 "cells": [
  {
   "cell_type": "code",
   "execution_count": null,
   "id": "f05180c9",
   "metadata": {},
   "outputs": [],
   "source": [
    "import numpy as np\n",
    "import pandas as pd\n",
    "from scipy.signal import periodogram, medfilt2d\n",
    "from scipy.interpolate import interp1d\n",
    "from scipy.fftpack import next_fast_len"
   ]
  },
  {
   "cell_type": "code",
   "execution_count": null,
   "id": "95da5a81",
   "metadata": {},
   "outputs": [],
   "source": [
    "import matplotlib.pyplot as plt\n",
    "# %matplotlib notebook\n",
    "figsize=[19 , 5]\n",
    "isPlot = False"
   ]
  },
  {
   "cell_type": "code",
   "execution_count": null,
   "id": "898ec87c",
   "metadata": {},
   "outputs": [],
   "source": [
    "maxFreq = 60\n",
    "maxHarmonic = 50\n",
    "peddingFactor = 100\n",
    "detectionThresh = 2"
   ]
  },
  {
   "cell_type": "code",
   "execution_count": null,
   "id": "b4315cf3",
   "metadata": {},
   "outputs": [],
   "source": [
    "t = pd.read_csv('Hwp - motor - bearing 1- 12_16_16 - 18_12.csv').iloc[:, 0].values\n",
    "\n",
    "x = pd.concat([\n",
    "    pd.read_csv('Hwp - motor - bearing 1- 12_16_16 - 18_12.csv').iloc[:, 1:],\n",
    "    pd.read_csv('Hwp - motor - bearing 2- 12_16_16 - 18_12.csv').iloc[:, 1:],\n",
    "              ], axis=1).values\n",
    "x.shape"
   ]
  },
  {
   "cell_type": "code",
   "execution_count": null,
   "id": "33105274",
   "metadata": {
    "scrolled": false
   },
   "outputs": [],
   "source": [
    "# first phase for white signal estimation:\n",
    "nfft = next_fast_len(x.shape[0])\n",
    "f, pxx = periodogram(x, fs=1 / t[1], return_onesided=True, axis=0, nfft=nfft)\n",
    "cond = f < maxFreq * maxHarmonic * 1.1\n",
    "pxx = pxx[cond]\n",
    "f = f[cond]\n",
    "\n",
    "winSize = (np.round(10/ f[1] / 2) * 2).astype(int) + 1\n",
    "pxxMed = medfilt2d(np.log(pxx), (winSize, 1))\n",
    "interpFuns = [interp1d(f, pxxMed[:, channel]) for channel in range(pxxMed.shape[1])]\n",
    "\n",
    "# upsampled spectrum for later HPS with better resolution:\n",
    "nfft = next_fast_len(x.shape[0]) * peddingFactor\n",
    "f, pxx = periodogram(x, fs=1 / t[1], return_onesided=True, axis=0, nfft=nfft)\n",
    "cond = f < maxFreq * maxHarmonic\n",
    "pxx = pxx[cond]\n",
    "f = f[cond]\n",
    "\n",
    "# pre-whitening section:\n",
    "pxxMed = np.concatenate([np.atleast_2d(interpFun(f)) for interpFun in interpFuns], axis=0).T\n",
    "logPxxDetrand = np.log(pxx) - pxxMed\n",
    "\n",
    "# thresholding\n",
    "logPxxDetrand[logPxxDetrand < detectionThresh] = 0\n",
    "logPxxDetrand += 1\n",
    "# channel product\n",
    "probAxisProd = np.prod(logPxxDetrand, axis=1)\n",
    "\n",
    "# Harmonic Product spectrum implementation:\n",
    "nSearch = (f < maxFreq).sum()\n",
    "probHarmonicProd = np.ones((nSearch, ))\n",
    "maxLoc = [] #monitoring variable\n",
    "snr = [] #monitoring variable\n",
    "for harmonic in range(1, maxHarmonic + 1):\n",
    "    probHarmonicProd *= probAxisProd[:nSearch * harmonic:harmonic]\n",
    "    \n",
    "    # monitoring and visualization:\n",
    "    maxLoc.append(np.argmax(probHarmonicProd))\n",
    "    snr.append(probHarmonicProd[maxLoc[-1]] / probHarmonicProd.mean())\n",
    "    if isPlot:\n",
    "        plt.figure(figsize=figsize)\n",
    "        plt.title(\"Harmonic No. {harmonic}\".format(harmonic=harmonic))\n",
    "        plt.semilogy(f[:nSearch], probHarmonicProd)\n",
    "        plt.semilogy(f[:nSearch], probHarmonicProd / probAxisProd[:nSearch * harmonic:harmonic])\n",
    "        plt.legend(['after', 'before'])\n",
    "        plt.grid()\n",
    "        plt.show()"
   ]
  },
  {
   "cell_type": "code",
   "execution_count": null,
   "id": "06c447a4",
   "metadata": {},
   "outputs": [],
   "source": [
    "plt.figure(figsize=figsize)\n",
    "plt.plot(f[maxLoc] - f[maxLoc[-1]])\n",
    "plt.ylabel('$\\Delta$ f [Hz]')\n",
    "plt.xlabel('Harmonic')\n",
    "plt.ylim([-0.025, 0.025])\n",
    "plt.grid()\n",
    "plt.show()\n",
    "\n",
    "plt.figure(figsize=figsize)\n",
    "plt.plot(snr)\n",
    "plt.xlabel('Harmonic')\n",
    "plt.grid()\n",
    "plt.ylabel('frac{Max Peak}{Mean value}')\n",
    "plt.show()"
   ]
  }
 ],
 "metadata": {
  "kernelspec": {
   "display_name": "Python 3 (ipykernel)",
   "language": "python",
   "name": "python3"
  },
  "language_info": {
   "codemirror_mode": {
    "name": "ipython",
    "version": 3
   },
   "file_extension": ".py",
   "mimetype": "text/x-python",
   "name": "python",
   "nbconvert_exporter": "python",
   "pygments_lexer": "ipython3",
   "version": "3.9.8"
  }
 },
 "nbformat": 4,
 "nbformat_minor": 5
}
