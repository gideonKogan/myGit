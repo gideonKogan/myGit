{
 "cells": [
  {
   "cell_type": "code",
   "execution_count": null,
   "id": "f05180c9",
   "metadata": {},
   "outputs": [],
   "source": [
    "import numpy as np\n",
    "import pandas as pd\n",
    "from glob import glob\n",
    "from scipy.signal import periodogram, medfilt2d\n",
    "from scipy.interpolate import interp1d\n",
    "from scipy.fftpack import next_fast_len"
   ]
  },
  {
   "cell_type": "code",
   "execution_count": null,
   "id": "95da5a81",
   "metadata": {},
   "outputs": [],
   "source": [
    "import matplotlib.pyplot as plt\n",
    "# %matplotlib notebook\n",
    "figsize=[19 , 5]\n",
    "isPlot = False"
   ]
  },
  {
   "cell_type": "code",
   "execution_count": null,
   "id": "898ec87c",
   "metadata": {},
   "outputs": [],
   "source": [
    "maxFreqSearch = 60\n",
    "maxHarmonic = 50\n",
    "peddingFactor = 100\n",
    "detectionThresh = 2\n",
    "medFiltWindHz = 50\n",
    "sFactor = 1.1"
   ]
  },
  {
   "cell_type": "code",
   "execution_count": null,
   "id": "33105274",
   "metadata": {
    "scrolled": false
   },
   "outputs": [],
   "source": [
    "def HPS(x, t, \n",
    "        maxFreqSearch,\n",
    "        maxHarmonic,\n",
    "        peddingFactor,\n",
    "        detectionThresh,\n",
    "        medFiltWindHz,\n",
    "        sFactor,\n",
    "        isPlot=False):\n",
    "    # upsampled spectrum for later HPS with better resolution:\n",
    "    nfft = next_fast_len(x.shape[0]) * peddingFactor\n",
    "    f, pxx = periodogram(x, fs=1 / t[1], return_onesided=True, axis=0, nfft=nfft)\n",
    "\n",
    "    # white signal approximation:\n",
    "    condPre = f < maxFreqSearch * maxHarmonic * sFactor\n",
    "    pxx = pxx[condPre]\n",
    "    f = f[condPre]\n",
    "    fWhite = f[::peddingFactor]\n",
    "    pxxDec = pxx[::peddingFactor]\n",
    "    winSize = (np.round(medFiltWindHz/ fWhite[1] / 2) * 2).astype(int) + 1\n",
    "    pxxMed = medfilt2d(np.log(pxxDec), (winSize, 1))\n",
    "    interpFuns = [interp1d(fWhite, pxxMed[:, channel]) for channel in range(pxxMed.shape[1])]\n",
    "    cond = f < maxFreqSearch * maxHarmonic \n",
    "    pxx = pxx[cond]\n",
    "    f = f[cond]\n",
    "    pxxMed = np.concatenate([np.atleast_2d(interpFun(f)) for interpFun in interpFuns], axis=0).T\n",
    "\n",
    "    # pre-whitening\n",
    "    logPxxDetrand = np.log(pxx) - pxxMed\n",
    "\n",
    "    # thresholding\n",
    "    logPxxDetrand[logPxxDetrand < detectionThresh] = 0\n",
    "    logPxxDetrand += 1\n",
    "    # channel product\n",
    "    probAxisProd = np.prod(logPxxDetrand, axis=1)\n",
    "\n",
    "    # Harmonic Product spectrum implementation:\n",
    "    nSearch = (f < maxFreqSearch).sum()\n",
    "    probHarmonicProd = np.ones((nSearch, ))\n",
    "    maxLoc = [] #monitoring variable\n",
    "    snr = [] #monitoring variable\n",
    "    for harmonic in range(1, maxHarmonic + 1):\n",
    "        probHarmonicProd *= probAxisProd[:nSearch * harmonic:harmonic]\n",
    "\n",
    "        # monitoring and visualization:\n",
    "        maxLoc.append(np.argmax(probHarmonicProd))\n",
    "        snr.append(probHarmonicProd[maxLoc[-1]] / probHarmonicProd.mean())\n",
    "        if isPlot:\n",
    "            plt.figure(figsize=figsize)\n",
    "            plt.title(\"Harmonic No. {harmonic}\".format(harmonic=harmonic))\n",
    "            plt.semilogy(f[:nSearch], probHarmonicProd)\n",
    "            plt.semilogy(f[:nSearch], probHarmonicProd / probAxisProd[:nSearch * harmonic:harmonic])\n",
    "            plt.legend(['after', 'before'])\n",
    "            plt.grid()\n",
    "            plt.show()\n",
    "    maxFreq = f[maxLoc]\n",
    "    return snr, maxFreq"
   ]
  },
  {
   "cell_type": "code",
   "execution_count": null,
   "id": "0e9d25df",
   "metadata": {
    "scrolled": false
   },
   "outputs": [],
   "source": [
    "files = pd.Series(glob('*.csv'))\n",
    "files = pd.concat([files, files.str.split('-').apply(lambda x:''.join([a for a in x if 'bearing' not in a]))], axis=1)\n",
    "for s in files.iloc[:, 1].unique():\n",
    "    subGroup = files.loc[files.iloc[:, 1] == s, 0].values\n",
    "    print(subGroup)\n",
    "    print('---')\n",
    "    \n",
    "    df = pd.concat([pd.read_csv(file) for file in subGroup], axis=1)\n",
    "    df = df.loc[:,~df.columns.duplicated()]\n",
    "    t = df.timestamp.values\n",
    "    x = df.iloc[:, 1:]\n",
    "    snr, maxFreq = HPS(x, t, maxFreqSearch, maxHarmonic, peddingFactor, detectionThresh, medFiltWindHz, sFactor, \n",
    "                   isPlot=False)\n",
    "    \n",
    "    plt.figure(figsize=figsize)\n",
    "    plt.plot(maxFreq)\n",
    "    plt.ylabel('$Max Frequency [Hz]')\n",
    "    plt.xlabel('Harmonic')\n",
    "    plt.ylim([maxFreq[-1] - 0.025, maxFreq[-1] + 0.025])\n",
    "    plt.grid()\n",
    "    plt.show()\n",
    "    \n",
    "    plt.figure(figsize=figsize)\n",
    "    plt.plot(maxFreq)\n",
    "    plt.ylabel('$Max Frequency [Hz]')\n",
    "    plt.xlabel('Harmonic')\n",
    "    plt.grid()\n",
    "    plt.show()\n",
    "\n",
    "    plt.figure(figsize=figsize)\n",
    "    plt.plot(snr)\n",
    "    plt.xlabel('Harmonic')\n",
    "    plt.grid()\n",
    "    plt.ylabel('frac{Max Peak}{Mean value}')\n",
    "    plt.show()"
   ]
  }
 ],
 "metadata": {
  "kernelspec": {
   "display_name": "Python 3 (ipykernel)",
   "language": "python",
   "name": "python3"
  },
  "language_info": {
   "codemirror_mode": {
    "name": "ipython",
    "version": 3
   },
   "file_extension": ".py",
   "mimetype": "text/x-python",
   "name": "python",
   "nbconvert_exporter": "python",
   "pygments_lexer": "ipython3",
   "version": "3.9.8"
  }
 },
 "nbformat": 4,
 "nbformat_minor": 5
}
