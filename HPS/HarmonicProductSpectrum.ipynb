{
 "cells": [
  {
   "cell_type": "code",
   "execution_count": null,
   "id": "f05180c9",
   "metadata": {},
   "outputs": [],
   "source": [
    "import numpy as np\n",
    "import pandas as pd\n",
    "from scipy.signal import periodogram, medfilt2d\n",
    "from scipy.fftpack import next_fast_len"
   ]
  },
  {
   "cell_type": "code",
   "execution_count": null,
   "id": "95da5a81",
   "metadata": {},
   "outputs": [],
   "source": [
    "import matplotlib.pyplot as plt\n",
    "%matplotlib notebook\n",
    "figsize=[9.5 , 5]"
   ]
  },
  {
   "cell_type": "code",
   "execution_count": null,
   "id": "898ec87c",
   "metadata": {},
   "outputs": [],
   "source": [
    "maxFreq = 100\n",
    "maxHarmonic = 25\n",
    "peddingFactor = 100\n",
    "detectionThresh = 2"
   ]
  },
  {
   "cell_type": "markdown",
   "id": "1841855f",
   "metadata": {},
   "source": [
    "# consider using the axial direction"
   ]
  },
  {
   "cell_type": "code",
   "execution_count": null,
   "id": "b4315cf3",
   "metadata": {},
   "outputs": [],
   "source": [
    "t = pd.read_csv('Hwp - motor - bearing 1- 12_16_16 - 18_12.csv').iloc[:, 0].values\n",
    "x = pd.concat([\n",
    "    pd.read_csv('Hwp - motor - bearing 1- 12_16_16 - 18_12.csv').iloc[:, 2:],\n",
    "    pd.read_csv('Hwp - motor - bearing 2- 12_16_16 - 18_12.csv').iloc[:, 2:],\n",
    "              ], axis=1).values\n",
    "x"
   ]
  },
  {
   "cell_type": "code",
   "execution_count": null,
   "id": "33105274",
   "metadata": {},
   "outputs": [],
   "source": [
    "nfft = next_fast_len(x.shape[0]) * peddingFactor\n",
    "f, pxx = periodogram(x, fs=1 / t[1], return_onesided=True, axis=0, nfft=nfft)"
   ]
  },
  {
   "cell_type": "code",
   "execution_count": null,
   "id": "dcdab793",
   "metadata": {},
   "outputs": [],
   "source": [
    "cond = f < maxFreq * maxHarmonic\n",
    "pxx = pxx[cond]\n",
    "f = f[cond]"
   ]
  },
  {
   "cell_type": "code",
   "execution_count": null,
   "id": "938727e3",
   "metadata": {},
   "outputs": [],
   "source": [
    "# here the computation time can be reduced by decimation\n",
    "winSize = (np.round(10/ f[1] / 2) * 2).astype(int) + 1\n",
    "pxxMed = medfilt2d(np.log(pxx), (winSize, 1))"
   ]
  },
  {
   "cell_type": "code",
   "execution_count": null,
   "id": "39916e05",
   "metadata": {
    "scrolled": false
   },
   "outputs": [],
   "source": [
    "for c in range(pxx.shape[1]):\n",
    "    plt.figure(figsize=figsize)\n",
    "    cond = (f < maxFreq) & (f > 5)\n",
    "    plt.plot(f[cond], np.log(pxx[cond, c]))\n",
    "    plt.plot(f[cond], pxxMed[cond, c])\n",
    "    plt.grid()\n",
    "    plt.show()"
   ]
  },
  {
   "cell_type": "code",
   "execution_count": null,
   "id": "b1feb1e5",
   "metadata": {
    "scrolled": false
   },
   "outputs": [],
   "source": [
    "logPxxDetrand = np.log(pxx) - pxxMed\n",
    "logPxxDetrand[logPxxDetrand < detectionThresh] = 0\n",
    "logPxxDetrand += 1\n",
    "probAxisProd = np.prod(logPxxDetrand, axis=1)\n",
    "\n",
    "nSearch = (f < maxFreq).sum()\n",
    "probHarmonicProd = np.ones((nSearch, ))\n",
    "\n",
    "viewCond = (f[:nSearch] > 15) & (f[:nSearch] < 40)\n",
    "    \n",
    "for harmonic in range(1, maxHarmonic + 1):\n",
    "    plt.figure(figsize=figsize)\n",
    "    before = probHarmonicProd.copy()\n",
    "    probHarmonicProd *= probAxisProd[:nSearch * harmonic:harmonic]\n",
    "    plt.title(\"Harmonic No. {harmonic}\".format(harmonic=harmonic))\n",
    "    plt.semilogy(f[:nSearch][viewCond], probHarmonicProd[viewCond])\n",
    "    plt.semilogy(f[:nSearch][viewCond], before[viewCond])\n",
    "    plt.legend(['after', 'before'])\n",
    "    plt.grid()\n",
    "    plt.show()"
   ]
  },
  {
   "cell_type": "code",
   "execution_count": null,
   "id": "94b4a628",
   "metadata": {},
   "outputs": [],
   "source": [
    "f[np.argmax(probHarmonicProd[f[:nSearch] < 50])]"
   ]
  }
 ],
 "metadata": {
  "kernelspec": {
   "display_name": "Python 3 (ipykernel)",
   "language": "python",
   "name": "python3"
  },
  "language_info": {
   "codemirror_mode": {
    "name": "ipython",
    "version": 3
   },
   "file_extension": ".py",
   "mimetype": "text/x-python",
   "name": "python",
   "nbconvert_exporter": "python",
   "pygments_lexer": "ipython3",
   "version": "3.9.8"
  }
 },
 "nbformat": 4,
 "nbformat_minor": 5
}
