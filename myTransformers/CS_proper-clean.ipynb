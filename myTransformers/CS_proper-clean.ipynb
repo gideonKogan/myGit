{
 "cells": [
  {
   "cell_type": "code",
   "execution_count": null,
   "id": "494055df",
   "metadata": {},
   "outputs": [],
   "source": [
    "import numpy as np\n",
    "import pandas as pd\n",
    "\n",
    "from scipy.signal import iirfilter, lfilter, periodogram, stft, istft\n",
    "from scipy.spatial.distance import seuclidean\n",
    "from scipy.stats import chi2\n",
    "\n",
    "import matplotlib.pyplot as plt\n",
    "%matplotlib notebook\n",
    "figsize = [9.5, 5]"
   ]
  },
  {
   "cell_type": "code",
   "execution_count": null,
   "id": "3098b78b",
   "metadata": {},
   "outputs": [],
   "source": [
    "files = !ls data/*.fthr | grep 29.5_ANALOGMAX-0\n",
    "file = files[-292]\n",
    "file"
   ]
  },
  {
   "cell_type": "code",
   "execution_count": null,
   "id": "0597b732",
   "metadata": {},
   "outputs": [],
   "source": [
    "df = pd.read_feather(file) \n",
    "df = df[df.time_ms < np.round(df.time_ms.values[-1] / 1000) * 1000]\n",
    "df.shape"
   ]
  },
  {
   "cell_type": "code",
   "execution_count": null,
   "id": "3e93711d",
   "metadata": {},
   "outputs": [],
   "source": [
    "def getParams(fs, alphaMax=2000, dfreq=500, fMin=5e+4):\n",
    "    # alphaMax - max modulation frequency\n",
    "    # dfreq - carrier frequency resolution\n",
    "    # fMin - min carrier frequency\n",
    "\n",
    "    # STFT windows' hop\n",
    "    R = int(np.floor(fs / (2 * alphaMax))) #shift of the stft\n",
    "    # STFT window length\n",
    "    Nw = int(fs / dfreq)\n",
    "    # number of STFT windows\n",
    "    # M = int((x.size - Nw) / R + 1)\n",
    "\n",
    "    # hannind window\n",
    "    w = np.hanning(Nw)\n",
    "    # Dirichlet kernel parameter\n",
    "    P = int(np.round((Nw - 1) / (2 * R)))\n",
    "    # Dirichlet kernel\n",
    "    D = np.sum(\n",
    "        [np.exp(2 * np.pi * 1j * p *(np.arange(Nw) - Nw / 2) / Nw) for p in np.arange(- P, P + 1)], \n",
    "        axis=0\n",
    "    )\n",
    "    D = D.real\n",
    "    return fMin, R, Nw, w, D"
   ]
  },
  {
   "cell_type": "code",
   "execution_count": null,
   "id": "79ce20bd",
   "metadata": {},
   "outputs": [],
   "source": [
    "def getCS(x, fs, approxCoh=True, normalization=False, alphaMax=2000, dfreq=500): \n",
    "    # An implementation of the spectral correlation and spectral coherence according to \n",
    "    # Borghesani, P., and J. Antoni. \"A faster algorithm for the calculation of the fast spectral correlation.\" \n",
    "    # Mechanical Systems and Signal Processing 111 (2018): 113-118.\n",
    "\n",
    "    fMin, R, Nw, w, D = getParams(fs, alphaMax=alphaMax, dfreq=dfreq)\n",
    "\n",
    "    # STFT with with Hanning window and with Hanning multiplied by Dirichlet kernel\n",
    "    X_w = stft(x, fs=fs, window=w, nperseg=Nw, noverlap=Nw - R, nfft=Nw, return_onesided=True)[-1]\n",
    "    f, t, X_w_d = stft(x, fs=fs, window=w * D, nperseg=Nw, noverlap=Nw - R, nfft=Nw, return_onesided=True)\n",
    "\n",
    "    if approxCoh:\n",
    "        # here I save some computation time by removing the frequencies below fMin.\n",
    "        X_w = X_w[f >= fMin, :-1]\n",
    "        X_w_d = X_w_d[f >= fMin, :-1]\n",
    "\n",
    "    # Cyclcic Spectrum\n",
    "    CS = np.fft.fft(np.conjugate(X_w) * X_w_d, axis=1).T\n",
    "    # Modulation frequency\n",
    "    alpha = np.fft.fftfreq(X_w_d.shape[1], R / fs)\n",
    "    pistiveAlphaCond = alpha >= 0\n",
    "    CS = CS[pistiveAlphaCond, :]\n",
    "\n",
    "    if normalization:\n",
    "        # here I implemented the normalization but did not find it useful - the results' improvement is not impressive.\n",
    "        normalizingFactor = np.fft.fft((w**2) * D, int(R * (1 + (x.size - Nw) / R)))[:np.sum(pistiveAlphaCond)]\n",
    "        normalizingFactor *= fs * X_w_d.shape[1]\n",
    "        CS = (CS.T / normalizingFactor).T\n",
    "        normalizingFactor_abs = np.abs(normalizingFactor)\n",
    "        normalizingFactorCond = normalizingFactor_abs / np.max(normalizingFactor_abs) > 0.95\n",
    "        CS = CS[normalizingFactorCond, :]\n",
    "    else:\n",
    "        normalizingFactorCond = np.ones(np.sum(pistiveAlphaCond), dtype=bool)\n",
    "\n",
    "\n",
    "    # Cyclic Coherence\n",
    "    CS_abs = np.abs(CS)\n",
    "    if approxCoh:\n",
    "        CCoh = CS_abs / CS_abs[0, :]\n",
    "    else:\n",
    "        inds = np.atleast_2d(np.arange(f.size)) - np.atleast_2d((np.arange(CS.shape[0]) * Nw) / (R * alpha.size)).T\n",
    "        inds = inds.astype(int)\n",
    "        CCoh = CS_abs / np.sqrt(CS_abs[0, :] * CS_abs[0, inds])\n",
    "        CS = CS[:, f >= fMin]\n",
    "        CCoh = CCoh[:, f >= fMin]\n",
    "\n",
    "    alpha = alpha[pistiveAlphaCond][normalizingFactorCond]\n",
    "    f = f[f >= fMin]\n",
    "\n",
    "    return CS, CCoh, f, alpha"
   ]
  },
  {
   "cell_type": "code",
   "execution_count": null,
   "id": "b08e4c02",
   "metadata": {},
   "outputs": [],
   "source": [
    "def getPvalCCoh(x, fs, alphaMax=2000, dfreq=500, alphaLims=[0.019, 0.501]):\n",
    "    CS, CCoh, f, alpha = getCS(x, fs, alphaMax=alphaMax, dfreq=dfreq, normalization=False)\n",
    "    CCoh_abs = np.abs(CCoh.T)\n",
    "    edgeCond = (alpha > alphaMax * alphaLims[0]) & (alpha < alphaMax * alphaLims[1])\n",
    "    CCoh_abs = CCoh_abs[:, edgeCond]\n",
    "    alpha = alpha[edgeCond]\n",
    "    EES = CCoh_abs.sum(axis=0) \n",
    "    \n",
    "    cond100 = np.mod(alpha, 100) == 0\n",
    "    EES100 = EES[cond100]\n",
    "#     standardized Euclidean distance\n",
    "    SED = seuclidean(\n",
    "        EES100, \n",
    "        EES[~cond100].mean() * np.ones_like(EES100), \n",
    "        EES[~cond100].var() * np.ones_like(EES100)\n",
    "    )\n",
    "    pValue = chi2(EES100.size).sf(SED)\n",
    "    \n",
    "    return pValue, CCoh_abs, alpha, f, EES"
   ]
  },
  {
   "cell_type": "code",
   "execution_count": null,
   "id": "b46052d4",
   "metadata": {},
   "outputs": [],
   "source": [
    "alphaMax = 2000\n",
    "dfreq = 1500\n",
    "fs = 1000 / df.iloc[1, 0] "
   ]
  },
  {
   "cell_type": "code",
   "execution_count": null,
   "id": "324b8811",
   "metadata": {
    "scrolled": false
   },
   "outputs": [],
   "source": [
    "for ch in np.arange(1, df.shape[1]):\n",
    "    x = df.iloc[:, ch]\n",
    "    pValue, CCoh_abs, alpha, f, EES = getPvalCCoh(df.iloc[:, ch].values, fs, alphaMax=alphaMax, dfreq=dfreq)\n",
    "\n",
    "    plt.figure(figsize=figsize)\n",
    "    plt.pcolormesh(alpha, f, CCoh_abs, shading='auto', vmax=np.percentile(CCoh_abs, 99.8))\n",
    "    plt.xlabel('Modulation frequency [Hz]')\n",
    "    plt.ylabel('Carrier Frequency [Hz]')\n",
    "    plt.title(file.split('/')[-1][:-5] + ': Spectal cyclic coherence; channel ' + str(ch))\n",
    "    plt.xticks(np.arange(50, alpha[-1], 50))\n",
    "    plt.colorbar()\n",
    "    plt.show()\n",
    "    \n",
    "    plt.figure(figsize=figsize)\n",
    "    plt.plot(alpha, EES)\n",
    "    plt.xlabel('Modulation frequency [Hz]')\n",
    "    plt.title(file.split('/')[-1][:-5]  + ': channel ' + str(ch) + '; p-value={:.3f}'.format(pValue))\n",
    "    plt.xticks(np.arange(50, alpha[-1], 50))\n",
    "    plt.ylabel('EES')\n",
    "    plt.grid()\n",
    "    plt.show()"
   ]
  }
 ],
 "metadata": {
  "kernelspec": {
   "display_name": "Python 3 (ipykernel)",
   "language": "python",
   "name": "python3"
  },
  "language_info": {
   "codemirror_mode": {
    "name": "ipython",
    "version": 3
   },
   "file_extension": ".py",
   "mimetype": "text/x-python",
   "name": "python",
   "nbconvert_exporter": "python",
   "pygments_lexer": "ipython3",
   "version": "3.9.7"
  },
  "varInspector": {
   "cols": {
    "lenName": 16,
    "lenType": 16,
    "lenVar": 40
   },
   "kernels_config": {
    "python": {
     "delete_cmd_postfix": "",
     "delete_cmd_prefix": "del ",
     "library": "var_list.py",
     "varRefreshCmd": "print(var_dic_list())"
    },
    "r": {
     "delete_cmd_postfix": ") ",
     "delete_cmd_prefix": "rm(",
     "library": "var_list.r",
     "varRefreshCmd": "cat(var_dic_list()) "
    }
   },
   "position": {
    "height": "396.844px",
    "left": "1115px",
    "right": "20px",
    "top": "120px",
    "width": "305px"
   },
   "types_to_exclude": [
    "module",
    "function",
    "builtin_function_or_method",
    "instance",
    "_Feature"
   ],
   "window_display": false
  }
 },
 "nbformat": 4,
 "nbformat_minor": 5
}
