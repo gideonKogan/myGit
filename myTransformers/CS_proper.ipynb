{
 "cells": [
  {
   "cell_type": "markdown",
   "id": "a0aaa122",
   "metadata": {},
   "source": [
    "# First attempt for implementation of \"A faster algorithm for the calculation of the fast spectral correlation\" by P. Borghesani & J. Antoni "
   ]
  },
  {
   "cell_type": "code",
   "execution_count": null,
   "id": "494055df",
   "metadata": {},
   "outputs": [],
   "source": [
    "import numpy as np\n",
    "from scipy.signal import iirfilter, lfilter, periodogram, stft\n",
    "from numpy.lib.stride_tricks import sliding_window_view\n",
    "\n",
    "import matplotlib.pyplot as plt\n",
    "# %matplotlib notebook\n",
    "figsize = [19, 5]\n",
    "\n",
    "# sampling rate\n",
    "fs = 10**6 #samples / seconds\n",
    "nSamples = 10**6\n",
    "\n",
    "modFreq = 50 #Hz\n",
    "carrierFreq = 225e+3 #Hz\n",
    "bandWidth = 25e+3 #Hz\n",
    "filtOrd = 2 \n",
    "nHarmonics = 20\n",
    "filtWn = [(carrierFreq - bandWidth) / (fs / 2), (carrierFreq + bandWidth) / (fs / 2)] #normalized frequency "
   ]
  },
  {
   "cell_type": "markdown",
   "id": "6f73c27e",
   "metadata": {},
   "source": [
    "### signal simulation - noise modulating with 50 Hz"
   ]
  },
  {
   "cell_type": "code",
   "execution_count": null,
   "id": "795bf8e3",
   "metadata": {},
   "outputs": [],
   "source": [
    "t = np.arange(nSamples) / fs # time vector in seconds\n",
    "\n",
    "# simulating the modulation signal\n",
    "x = np.zeros_like(t)\n",
    "for h in range(1, nHarmonics):\n",
    "    x += np.sin(h * modFreq * np.pi * 2 * t) \n",
    "\n",
    "#spectrums\n",
    "plt.figure(figsize=figsize)\n",
    "# spectrum of the simulated modulation signal\n",
    "f, pxx = periodogram(x, fs) \n",
    "plt.plot(f, pxx)\n",
    "\n",
    "# simulation of the noise multiplied by the modulation signal\n",
    "x *= np.random.randn(t.shape[0])\n",
    "# filtering of the modulating noise\n",
    "b, a = iirfilter(filtOrd, filtWn)\n",
    "x = lfilter(b, a, x)\n",
    "\n",
    "# spectrum of the modulated filtered noise - normalized the scale for the visualization\n",
    "f, pxx = periodogram(x, fs)\n",
    "plt.plot(f, pxx / pxx.max() * 0.5)\n",
    "plt.grid()\n",
    "# plt.xlim([0, h * modFreq])\n",
    "plt.legend(['Modulation signal', 'Normalized simulated signal'])\n",
    "plt.xlabel('Frequency [Hz]')\n",
    "plt.ylabel('PSD')\n",
    "plt.show()\n",
    "\n",
    "# also ploting the time domain of the filtered modulated signal\n",
    "plt.figure(figsize=figsize)\n",
    "plt.plot(t, x)\n",
    "plt.grid()\n",
    "plt.xlabel('time [sec]')\n",
    "plt.show()"
   ]
  },
  {
   "cell_type": "markdown",
   "id": "fc53346d",
   "metadata": {},
   "source": [
    "### here I create the same signal for the second time for another figure - zoom view"
   ]
  },
  {
   "cell_type": "code",
   "execution_count": null,
   "id": "1964b087",
   "metadata": {},
   "outputs": [],
   "source": [
    "x = np.zeros_like(t)\n",
    "for h in range(1, nHarmonics):\n",
    "    x += np.sin(h * modFreq * np.pi * 2 * t) \n",
    "\n",
    "plt.figure(figsize=figsize)\n",
    "f, pxx = periodogram(x, fs)\n",
    "plt.plot(f, pxx)\n",
    "\n",
    "x *= np.random.randn(t.shape[0])\n",
    "b, a = iirfilter(filtOrd, filtWn)\n",
    "x = lfilter(b, a, x)\n",
    "\n",
    "f, pxx = periodogram(x, fs)\n",
    "plt.plot(f, pxx / pxx.max() * 0.5)\n",
    "plt.grid()\n",
    "# plt.xlim([0, h * modFreq])\n",
    "plt.title('Zoom View')\n",
    "plt.legend(['Modulation signal', 'Normalized simulated signal'])\n",
    "plt.xlabel('Frequency [Hz]')\n",
    "plt.ylabel('PSD')\n",
    "plt.xlim([0, h * modFreq])\n",
    "plt.show()"
   ]
  },
  {
   "cell_type": "code",
   "execution_count": null,
   "id": "33bb4144",
   "metadata": {},
   "outputs": [],
   "source": [
    "def CPS_W(inputs): \n",
    "    import numpy as np\n",
    "    from scipy.signal import stft\n",
    "    x, alpha, nfft, Noverlap, winSize = inputs\n",
    "#   x - signal\n",
    "#   alpha - normalized modulation siganal\n",
    "    Window = np.hanning(winSize)\n",
    "    \n",
    "    # compute CPS\n",
    "    f = np.arange(nfft) / nfft\n",
    "    t = np.arange(x.size)\n",
    "    y = x * np.exp(2j * np.pi * alpha * t)\n",
    "        \n",
    "    _, _, xFFT = stft(x, fs=1.0, window=Window, nperseg=winSize, noverlap=Noverlap, nfft=nfft, detrend=False, \n",
    "                      return_onesided=False, boundary='zeros', padded=True, axis=- 1)\n",
    "    f, _, yFFT = stft(y, fs=1.0, window=Window, nperseg=winSize, noverlap=Noverlap, nfft=nfft, detrend=False, \n",
    "                      return_onesided=False, boundary='zeros', padded=True, axis=- 1)\n",
    "    \n",
    "    CPS = np.mean(xFFT[f >= 0, :] * np.conjugate(yFFT[f >= 0, :]), axis=1)\n",
    "    return CPS"
   ]
  },
  {
   "cell_type": "code",
   "execution_count": null,
   "id": "3a0ea684",
   "metadata": {},
   "outputs": [],
   "source": [
    "def getParams(fs, alphaMax=1000, df=100, fMin=5e+4):\n",
    "    # alphaMax - max modulation frequency\n",
    "    # df - carrier frequency resolution\n",
    "    # fMin - min carrier frequency\n",
    "\n",
    "    # STFT windows' hop\n",
    "    R = int(np.floor(fs / (2 * alphaMax))) #shift of the stft\n",
    "    # STFT window length\n",
    "    Nw = int(fs / df)\n",
    "    # number of STFT windows\n",
    "#     M = int((x.size - Nw) / R + 1)\n",
    "\n",
    "    # hannind window\n",
    "    w = np.hanning(Nw)\n",
    "    # Dirichlet kernel parameter\n",
    "    P = int(np.round((Nw - 1) / (2 * R)))\n",
    "    # Dirichlet kernel\n",
    "    D = np.sum(\n",
    "        [np.exp(2 * np.pi * 1j * p *(np.arange(Nw) - Nw / 2) / Nw) for p in np.arange(- P, P + 1)], \n",
    "        axis=0\n",
    "    )\n",
    "    D = D.real\n",
    "    return fMin, R, Nw, w, D"
   ]
  },
  {
   "cell_type": "code",
   "execution_count": null,
   "id": "77e84415",
   "metadata": {},
   "outputs": [],
   "source": [
    "from numpy.lib.stride_tricks import sliding_window_view\n",
    "\n",
    "def getCS_CMS(x, fs, norm=False):\n",
    "    fMin, R, Nw, w, D = getParams(fs)\n",
    "    \n",
    "    f, t, X_w = stft(x, fs=fs, window=w, nperseg=Nw, noverlap=Nw - R, nfft=Nw, return_onesided=True)\n",
    "\n",
    "    # here I save some computation time (factor of fMin / fs ~ 4) but later I have to implement the approsimation \n",
    "    # to the coherence by neglecting the frequency shift CCoh = CS / CS[0, :]\n",
    "    X_w = X_w[f >= fMin, :]\n",
    "\n",
    "    alpha_len = next_fast_len(X_w.shape[1])\n",
    "    CS_CMS = fft(np.conjugate(X_w) * X_w, alpha_len, axis=1).T\n",
    "\n",
    "    alpha = np.fft.fftfreq(alpha_len, t[1])\n",
    "    CS_CMS = CS_CMS[alpha >= 0, :]\n",
    "    CCoh_CMS = CS_CMS / CS_CMS[0, :]\n",
    "\n",
    "    alpha = alpha[alpha >= 0]\n",
    "    f = f[f >= fMin]\n",
    "    \n",
    "    return CS_CMS, CCoh_CMS, f, alpha"
   ]
  },
  {
   "cell_type": "code",
   "execution_count": null,
   "id": "79ce20bd",
   "metadata": {},
   "outputs": [],
   "source": [
    "def getCS_fast(x, fs):\n",
    "    fMin, R, Nw, w, D = getParams(fs)\n",
    "    \n",
    "    _, _, X_w = stft(x, fs=fs, window=w, nperseg=Nw, noverlap=Nw - R, nfft=Nw, return_onesided=True)\n",
    "    f, t, x_w_d = stft(x, fs=fs, window=w * D, nperseg=Nw, noverlap=Nw - R, nfft=Nw, return_onesided=True)\n",
    "\n",
    "    # here I save some computation time (factor of fMin / fs ~ 4) but later I have to implement the approsimation \n",
    "    # to the coherence by neglecting the frequency shift CCoh = CS / CS[0, :]\n",
    "    X_w = X_w[f >= fMin, :]\n",
    "    x_w_d = x_w_d[f >= fMin, :]\n",
    "\n",
    "    CS = np.fft.fft(np.conjugate(X_w) * x_w_d, axis=1).T\n",
    "\n",
    "    alpha = np.fft.fftfreq(x_w_d.shape[1], R / fs)\n",
    "    CS = CS[alpha >= 0, :]\n",
    "    CCoh = CS / CS[0, :]\n",
    "\n",
    "    alpha = alpha[alpha >= 0]\n",
    "    f = f[f >= fMin]\n",
    "\n",
    "    return CS, CCoh, f, alpha"
   ]
  },
  {
   "cell_type": "code",
   "execution_count": null,
   "id": "6f620875",
   "metadata": {},
   "outputs": [],
   "source": [
    "%timeit CS, CCoh, f, alpha = getCS_CMS(x, fs)"
   ]
  },
  {
   "cell_type": "code",
   "execution_count": null,
   "id": "c6635c14",
   "metadata": {},
   "outputs": [],
   "source": [
    "%timeit CS, CCoh, f, alpha = getCS_fast(x, fs)"
   ]
  },
  {
   "cell_type": "code",
   "execution_count": null,
   "id": "8464b41f",
   "metadata": {
    "scrolled": false
   },
   "outputs": [],
   "source": [
    "CS_fast, CCoh_fast, f_fast, alpha_fast = getCS(x, fs)\n",
    "CS_CMS, CCoh_CMS, f_CMS, alpha_CMS = getCS_CMS(x, fs)"
   ]
  },
  {
   "cell_type": "code",
   "execution_count": null,
   "id": "0242467c",
   "metadata": {},
   "outputs": [],
   "source": [
    "import ipyparallel as ipp\n",
    "from glob import glob\n",
    "\n",
    "f_ACP = np.fft.fftfreq(10000, 1 / fs)\n",
    "f_ACP = f_ACP[f_ACP >= 0]\n",
    "alpha_ACP = np.arange(1000)\n",
    "\n",
    "fMin, R, Nw, w, D = getParams(fs)\n",
    "inputs = [(x, a, Nw, Nw - R, Nw) for a in (alpha_ACP / fs)]\n",
    "with ipp.Cluster() as rc:\n",
    "    view = rc.load_balanced_view()\n",
    "    asyncresult = view.map_async(CPS_W, inputs)\n",
    "    asyncresult.wait_interactive()\n",
    "    CS_ACP = np.array(asyncresult.get())\n",
    "\n",
    "CS_ACP = CS_ACP[:, f_ACP >= fMin]\n",
    "f_ACP = f_ACP[f_ACP >= fMin]\n",
    "CCoh_ACP = np.divide(CS_ACP, CS_ACP[0, :])"
   ]
  },
  {
   "cell_type": "code",
   "execution_count": null,
   "id": "2d9fdcae",
   "metadata": {
    "scrolled": false
   },
   "outputs": [],
   "source": [
    "%matplotlib inline\n",
    "\n",
    "figsize = [19, 7]\n",
    "plt.figure(figsize=figsize)\n",
    "plt.pcolormesh(alpha_ACP, f_ACP, np.abs(CS_ACP.T), shading='auto')\n",
    "plt.xlabel('Modulation frequency [Hz]')\n",
    "plt.ylabel('Carrier Frequency')\n",
    "plt.title('Spectal corrlation by ACP')\n",
    "plt.show()\n",
    "\n",
    "figsize = [19, 7]\n",
    "plt.figure(figsize=figsize)\n",
    "plt.pcolormesh(alpha_fast, f_fast, np.abs(CS_fast.T), shading='auto')\n",
    "plt.xlabel('Modulation frequency [Hz]')\n",
    "plt.ylabel('Carrier Frequency')\n",
    "plt.title('Spectal corrlation by fast spectral correlation')\n",
    "plt.show()\n",
    "\n",
    "plt.figure(figsize=figsize)\n",
    "plt.pcolormesh(alpha_CMS, f_CMS, np.abs(CS_CMS.T), shading='auto')\n",
    "plt.xlabel('Modulation frequency [Hz]')\n",
    "plt.ylabel('Carrier Frequency')\n",
    "plt.title('Spectal corrlation estimated by CMS')\n",
    "plt.show()\n",
    "\n",
    "figsize = [19, 7]\n",
    "plt.figure(figsize=figsize)\n",
    "plt.pcolormesh(alpha_ACP, f_ACP[f_ACP > fMin], np.abs(CCoh_ACP[:, f_ACP > fMin].T), shading='auto')\n",
    "plt.xlabel('Modulation frequency [Hz]')\n",
    "plt.ylabel('Carrier Frequency')\n",
    "plt.title('Spectal coherence by ACP')\n",
    "plt.show()\n",
    "\n",
    "plt.figure(figsize=figsize)\n",
    "plt.pcolormesh(alpha_fast, f_fast, np.abs(CCoh_fast.T), shading='auto')\n",
    "plt.xlabel('Modulation frequency [Hz]')\n",
    "plt.ylabel('Carrier Frequency')\n",
    "plt.title('Coherance estimated by fast spectral correlation')\n",
    "plt.show()\n",
    "\n",
    "plt.figure(figsize=figsize)\n",
    "plt.pcolormesh(alpha_CMS, f_CMS, np.abs(CCoh_CMS.T), shading='auto')\n",
    "plt.xlabel('Modulation frequency [Hz]')\n",
    "plt.ylabel('Carrier Frequency')\n",
    "plt.title('Coherance estimated by CMS')\n",
    "plt.show()"
   ]
  },
  {
   "cell_type": "code",
   "execution_count": null,
   "id": "6bb45d39",
   "metadata": {},
   "outputs": [],
   "source": [
    "EES_ACP = np.sum(np.abs(CS_ACP), axis=1)\n",
    "EES_fast = np.sum(np.abs(CS), axis=1)\n",
    "EES_CMS = np.sum(np.abs(CS_CMS), axis=1)\n",
    "\n",
    "plt.figure(figsize=figsize)\n",
    "plt.plot(alpha_ACP,  EES_ACP / EES_ACP.max() * EES_fast.max(), linewidth=8)\n",
    "plt.plot(alpha, EES_fast, linewidth=6)\n",
    "plt.plot(alpha_CMS, EES_CMS, linewidth=4)\n",
    "plt.xlabel('Modulation Frequency [Hz]')\n",
    "plt.ylabel('EES - CS')\n",
    "plt.legend(['ACP', 'Faster', 'CMS'])\n",
    "plt.grid()\n",
    "plt.show()"
   ]
  },
  {
   "cell_type": "code",
   "execution_count": null,
   "id": "07ac3fa3",
   "metadata": {},
   "outputs": [],
   "source": [
    "EES_ACP = np.mean(np.abs(CCoh_ACP), axis=1)\n",
    "EES_fast = np.mean(np.abs(CCoh), axis=1)\n",
    "EES_CMS = np.mean(np.abs(CCoh_CMS), axis=1)\n",
    "\n",
    "plt.figure(figsize=figsize)\n",
    "plt.plot(alpha_ACP,  EES_ACP, linewidth=10)\n",
    "plt.plot(alpha, EES_fast, linewidth=6)\n",
    "plt.plot(alpha_CMS, EES_CMS / EES_CMS.max() * EES_fast.max(), linewidth=3)\n",
    "plt.xlabel('Modulation Frequency [Hz]')\n",
    "plt.ylabel('EES - Coherence')\n",
    "plt.legend(['ACP', 'Faster', 'CMS'])\n",
    "plt.grid()\n",
    "plt.show()"
   ]
  },
  {
   "cell_type": "markdown",
   "id": "778f090c",
   "metadata": {},
   "source": [
    "### removing the DC in the 0 (max) frequency in the ACP method to check the improvement in the compatibility"
   ]
  },
  {
   "cell_type": "code",
   "execution_count": null,
   "id": "9f35178f",
   "metadata": {},
   "outputs": [],
   "source": [
    "EES_ACP = np.mean(np.abs(CCoh_ACP[:, f_ACP < f_ACP[-1] * 0.9]), axis=1)\n",
    "EES_fast = np.mean(np.abs(CCoh[:,  f < f[-1] * 0.9]), axis=1)\n",
    "EES_CMS = np.mean(np.abs(CCoh_CMS[:,  f < f[-1] * 0.9]), axis=1)\n",
    "\n",
    "plt.figure(figsize=figsize)\n",
    "plt.plot(alpha_ACP,  EES_ACP, linewidth=10)\n",
    "plt.plot(alpha,  EES_fast, linewidth=6)\n",
    "plt.plot(alpha_CMS, EES_CMS, linewidth=3)\n",
    "plt.xlabel('Modulation Frequency [Hz]')\n",
    "plt.ylabel('EES - Coherence')\n",
    "plt.legend(['ACP', 'Faster', 'CMS'])\n",
    "plt.grid()\n",
    "plt.show()"
   ]
  }
 ],
 "metadata": {
  "kernelspec": {
   "display_name": "Python 3 (ipykernel)",
   "language": "python",
   "name": "python3"
  },
  "language_info": {
   "codemirror_mode": {
    "name": "ipython",
    "version": 3
   },
   "file_extension": ".py",
   "mimetype": "text/x-python",
   "name": "python",
   "nbconvert_exporter": "python",
   "pygments_lexer": "ipython3",
   "version": "3.9.7"
  },
  "varInspector": {
   "cols": {
    "lenName": 16,
    "lenType": 16,
    "lenVar": 40
   },
   "kernels_config": {
    "python": {
     "delete_cmd_postfix": "",
     "delete_cmd_prefix": "del ",
     "library": "var_list.py",
     "varRefreshCmd": "print(var_dic_list())"
    },
    "r": {
     "delete_cmd_postfix": ") ",
     "delete_cmd_prefix": "rm(",
     "library": "var_list.r",
     "varRefreshCmd": "cat(var_dic_list()) "
    }
   },
   "position": {
    "height": "396.844px",
    "left": "1115px",
    "right": "20px",
    "top": "120px",
    "width": "305px"
   },
   "types_to_exclude": [
    "module",
    "function",
    "builtin_function_or_method",
    "instance",
    "_Feature"
   ],
   "window_display": false
  }
 },
 "nbformat": 4,
 "nbformat_minor": 5
}
