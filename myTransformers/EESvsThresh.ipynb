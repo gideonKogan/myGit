{
 "cells": [
  {
   "cell_type": "code",
   "execution_count": null,
   "id": "8bf273d6-ac42-46a5-9a2b-2107d7e736ff",
   "metadata": {},
   "outputs": [],
   "source": [
    "!pip install -U dask[complete] fastavro librosa noisereduce"
   ]
  },
  {
   "cell_type": "code",
   "execution_count": null,
   "id": "817d3352-0150-4f81-94e1-c360357b0b7c",
   "metadata": {},
   "outputs": [],
   "source": [
    "import dask.bag as db\n",
    "import numpy as np\n",
    "from scipy.signal import stft\n",
    "import pandas as pd\n",
    "\n",
    "from dask.distributed import Client\n",
    "import sys"
   ]
  },
  {
   "cell_type": "code",
   "execution_count": null,
   "id": "ab30aa2a-ce96-453a-aa9f-222bc4f8752f",
   "metadata": {},
   "outputs": [],
   "source": [
    "def calc(avroDict):\n",
    "    def getCS(x, fs, approxCoh=True, normalization=False):\n",
    "        # An implementation of the spectral correlation and spectral coherence according to \n",
    "        # Borghesani, P., and J. Antoni. \"A faster algorithm for the calculation of the fast spectral correlation.\" \n",
    "        # Mechanical Systems and Signal Processing 111 (2018): 113-118.\n",
    "\n",
    "        def getParams(fs, alphaMax=1000, df=100, fMin=5e+4):\n",
    "            # alphaMax - max modulation frequency\n",
    "            # df - carrier frequency resolution\n",
    "            # fMin - min carrier frequency\n",
    "\n",
    "            # STFT windows' hop\n",
    "            R = int(np.floor(fs / (2 * alphaMax))) #shift of the stft\n",
    "            # STFT window length\n",
    "            Nw = int(fs / df)\n",
    "            # number of STFT windows\n",
    "            # M = int((x.size - Nw) / R + 1)\n",
    "\n",
    "            # hannind window\n",
    "            w = np.hanning(Nw)\n",
    "            # Dirichlet kernel parameter\n",
    "            P = int(np.round((Nw - 1) / (2 * R)))\n",
    "            # Dirichlet kernel\n",
    "            D = np.sum(\n",
    "                [np.exp(2 * np.pi * 1j * p *(np.arange(Nw) - Nw / 2) / Nw) for p in np.arange(- P, P + 1)], \n",
    "                axis=0\n",
    "            )\n",
    "            D = D.real\n",
    "            return fMin, R, Nw, w, D\n",
    "\n",
    "        fMin, R, Nw, w, D = getParams(fs)\n",
    "\n",
    "        # STFT with with Hanning window and with Hanning multiplied by Dirichlet kernel\n",
    "        X_w = stft(x, fs=fs, window=w, nperseg=Nw, noverlap=Nw - R, nfft=Nw, return_onesided=True)[-1]\n",
    "        f, t, X_w_d = stft(x, fs=fs, window=w * D, nperseg=Nw, noverlap=Nw - R, nfft=Nw, return_onesided=True)\n",
    "\n",
    "        if approxCoh:\n",
    "            # here I save some computation time by removing the frequencies below fMin.\n",
    "            X_w = X_w[f >= fMin, :]\n",
    "            X_w_d = X_w_d[f >= fMin, :]\n",
    "\n",
    "        # Cyclcic Spectrum\n",
    "        CS = np.fft.fft(np.conjugate(X_w) * X_w_d, axis=1).T\n",
    "        # Modulation frequency\n",
    "        alpha = np.fft.fftfreq(X_w_d.shape[1], R / fs)\n",
    "        pistiveAlphaCond = alpha >= 0\n",
    "        CS = CS[pistiveAlphaCond, :]\n",
    "\n",
    "        if normalization:\n",
    "            # here I implemented the normalization but did not find it useful - the results' improvement is not impressive.\n",
    "            normalizingFactor = np.fft.fft((w**2) * D, int(R * (1 + (x.size - Nw) / R)))[:np.sum(pistiveAlphaCond)]\n",
    "            normalizingFactor *= fs * X_w_d.shape[1]\n",
    "            CS = (CS.T / normalizingFactor).T\n",
    "            normalizingFactor_abs = np.abs(normalizingFactor)\n",
    "            normalizingFactorCond = normalizingFactor_abs / np.max(normalizingFactor_abs) > 0.95\n",
    "            CS = CS[normalizingFactorCond, :]\n",
    "        else:\n",
    "            normalizingFactorCond = np.ones(np.sum(pistiveAlphaCond), dtype=bool)\n",
    "            \n",
    "\n",
    "        # Cyclic Coherence\n",
    "        CS_abs = np.abs(CS)\n",
    "        if approxCoh:\n",
    "            CCoh = CS_abs / CS_abs[0, :]\n",
    "        else:\n",
    "            inds = np.atleast_2d(np.arange(f.size)) - np.atleast_2d((np.arange(CS.shape[0]) * Nw) / (R * alpha.size)).T\n",
    "            inds = inds.astype(int)\n",
    "            CCoh = CS_abs / np.sqrt(CS_abs[0, :] * CS_abs[0, inds])\n",
    "            CS = CS[:, f >= fMin]\n",
    "            CCoh = CCoh[:, f >= fMin]\n",
    "\n",
    "        alpha = alpha[pistiveAlphaCond][normalizingFactorCond]\n",
    "        f = f[f >= fMin]\n",
    "\n",
    "        return CS, CCoh, f, alpha\n",
    "    \n",
    "    fs = avroDict['samplerate']\n",
    "    \n",
    "    EES = {}\n",
    "    for iCh in range(len(avroDict['adc_signal_mv'])):\n",
    "        _, CCoh, _, alpha = getCS(avroDict['adc_signal_mv'][iCh], fs)\n",
    "        \n",
    "        if iCh == 0:\n",
    "            EES['alpha'] = alpha\n",
    "        \n",
    "        for thresh in np.arange(0.01, 0.4, 0.01):\n",
    "            CCohThresh = CCoh * (CCoh > thresh)\n",
    "            label = str(iCh) + '_' + str(thresh)\n",
    "            EES[label] = CCohThresh.sum(axis=1)\n",
    "    \n",
    "    #print(avroDict['id'] + '-' + str(avroDict['timestamp']))\n",
    "    #sys.stdout.flush()\n",
    "        \n",
    "    return {'res': EES, 'label': avroDict['id'] + '-' + str(avroDict['timestamp'])}"
   ]
  },
  {
   "cell_type": "code",
   "execution_count": null,
   "id": "12fdfc17-26f6-4543-8608-1226433bb71e",
   "metadata": {},
   "outputs": [],
   "source": [
    "files = !gsutil ls gs://transformers-ae-us-central1/*.avro\n",
    "files = [f for f in files if (('test' not in f) and ('lab' not in f))]\n",
    "len(files)"
   ]
  },
  {
   "cell_type": "code",
   "execution_count": null,
   "id": "a7ac8f1a-fc64-4c07-8d88-9e3d45399bee",
   "metadata": {},
   "outputs": [],
   "source": [
    "chunkLen = 200\n",
    "fileChunks = [files[i:i + chunkLen] for i in range(0, len(files), chunkLen)]\n",
    "print(len(fileChunks))\n",
    "print(len(fileChunks[0]))\n",
    "print(len(fileChunks[-1]))"
   ]
  },
  {
   "cell_type": "code",
   "execution_count": null,
   "id": "9fc90b68-d8a0-4ad9-ac99-45ba8d340a98",
   "metadata": {},
   "outputs": [],
   "source": [
    "with Client() as client:\n",
    "    for iChunck in range(len(fileChunks)):\n",
    "        chank = fileChunks[iChunck]\n",
    "        print(iChunck, end=', ')\n",
    "        d = db.read_avro(chank, blocksize=None)\n",
    "        df = d.map(calc).to_dataframe().compute()\n",
    "        df.to_parquet('gs://ctoo/gideon/res/EESvsThresh-{}.prqt'.format(iChunck))"
   ]
  },
  {
   "cell_type": "code",
   "execution_count": null,
   "id": "9189f72d-d4b6-4711-8a14-ff5a01c118c3",
   "metadata": {},
   "outputs": [],
   "source": []
  }
 ],
 "metadata": {
  "environment": {
   "kernel": "python3",
   "name": "managed-notebooks.m87",
   "type": "gcloud",
   "uri": "gcr.io/deeplearning-platform-release/base-cu110:latest"
  },
  "kernelspec": {
   "display_name": "Python 3 (ipykernel)",
   "language": "python",
   "name": "python3"
  },
  "language_info": {
   "codemirror_mode": {
    "name": "ipython",
    "version": 3
   },
   "file_extension": ".py",
   "mimetype": "text/x-python",
   "name": "python",
   "nbconvert_exporter": "python",
   "pygments_lexer": "ipython3",
   "version": "3.9.7"
  },
  "varInspector": {
   "cols": {
    "lenName": 16,
    "lenType": 16,
    "lenVar": 40
   },
   "kernels_config": {
    "python": {
     "delete_cmd_postfix": "",
     "delete_cmd_prefix": "del ",
     "library": "var_list.py",
     "varRefreshCmd": "print(var_dic_list())"
    },
    "r": {
     "delete_cmd_postfix": ") ",
     "delete_cmd_prefix": "rm(",
     "library": "var_list.r",
     "varRefreshCmd": "cat(var_dic_list()) "
    }
   },
   "types_to_exclude": [
    "module",
    "function",
    "builtin_function_or_method",
    "instance",
    "_Feature"
   ],
   "window_display": false
  }
 },
 "nbformat": 4,
 "nbformat_minor": 5
}
