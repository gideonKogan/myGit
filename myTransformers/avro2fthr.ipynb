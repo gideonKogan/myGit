{
 "cells": [
  {
   "cell_type": "code",
   "execution_count": null,
   "id": "557bb973",
   "metadata": {},
   "outputs": [],
   "source": [
    "from os.path import isfile\n",
    "from dask.distributed import Client\n",
    "import dask.bag as db\n",
    "import pandas as pd\n",
    "import numpy as np"
   ]
  },
  {
   "cell_type": "code",
   "execution_count": null,
   "id": "c4a9c5db",
   "metadata": {},
   "outputs": [],
   "source": [
    "avroFiles = !ls dataAvro/*.avro\n",
    "avroFiles"
   ]
  },
  {
   "cell_type": "code",
   "execution_count": null,
   "id": "a11fdfdb",
   "metadata": {},
   "outputs": [],
   "source": [
    "fthrFiles = !ls data/*.fthr\n",
    "fthrFiles"
   ]
  },
  {
   "cell_type": "code",
   "execution_count": null,
   "id": "c4f56b49",
   "metadata": {},
   "outputs": [],
   "source": [
    "newAvroFiles = [f for f in avroFiles if not isfile(f.replace('dataAvro', 'data').replace('avro', 'fthr'))]\n",
    "print(len(avroFiles) - len(newAvroFiles) - len(fthrFiles))\n",
    "len(newAvroFiles)"
   ]
  },
  {
   "cell_type": "code",
   "execution_count": null,
   "id": "4466bbf9",
   "metadata": {},
   "outputs": [],
   "source": [
    "def avro2fthr(avroDict):    \n",
    "    fs = avroDict['samplerate']\n",
    "    \n",
    "    fileSaveName = 'newData/' + avroDict['id'] + '_' + str(avroDict['timestamp']) + '.fthr'\n",
    "    if len(avroDict['adc_signal_mv']) == 1:\n",
    "        x = avroDict['adc_signal_mv'][0]\n",
    "        pd.DataFrame({\n",
    "            'time_ms': np.arange(len(x)) / fs * 1000,\n",
    "            'adc_signal_mv': x\n",
    "        }).to_feather(fileSaveName)\n",
    "    else:\n",
    "        x0 = avroDict['adc_signal_mv'][0]\n",
    "        x1 = avroDict['adc_signal_mv'][1]\n",
    "        x2 = avroDict['adc_signal_mv'][2]\n",
    "        x3 = avroDict['adc_signal_mv'][3]\n",
    "        pd.DataFrame({\n",
    "            'time_ms': np.arange(len(x0)) / fs * 1000,\n",
    "            'ch0_adc_signal_mv': x0,\n",
    "            'ch1_adc_signal_mv': x1,\n",
    "            'ch2_adc_signal_mv': x2,\n",
    "            'ch3_adc_signal_mv': x3,\n",
    "        }).to_feather(fileSaveName)"
   ]
  },
  {
   "cell_type": "code",
   "execution_count": null,
   "id": "3b66ed4f",
   "metadata": {},
   "outputs": [],
   "source": [
    "with Client() as client:\n",
    "    display(client)\n",
    "    d = db.read_avro(newAvroFiles, blocksize=None)\n",
    "    df = d.map(avro2fthr).compute()"
   ]
  }
 ],
 "metadata": {
  "kernelspec": {
   "display_name": "Python 3 (ipykernel)",
   "language": "python",
   "name": "python3"
  },
  "language_info": {
   "codemirror_mode": {
    "name": "ipython",
    "version": 3
   },
   "file_extension": ".py",
   "mimetype": "text/x-python",
   "name": "python",
   "nbconvert_exporter": "python",
   "pygments_lexer": "ipython3",
   "version": "3.9.7"
  },
  "varInspector": {
   "cols": {
    "lenName": 16,
    "lenType": 16,
    "lenVar": 40
   },
   "kernels_config": {
    "python": {
     "delete_cmd_postfix": "",
     "delete_cmd_prefix": "del ",
     "library": "var_list.py",
     "varRefreshCmd": "print(var_dic_list())"
    },
    "r": {
     "delete_cmd_postfix": ") ",
     "delete_cmd_prefix": "rm(",
     "library": "var_list.r",
     "varRefreshCmd": "cat(var_dic_list()) "
    }
   },
   "types_to_exclude": [
    "module",
    "function",
    "builtin_function_or_method",
    "instance",
    "_Feature"
   ],
   "window_display": false
  }
 },
 "nbformat": 4,
 "nbformat_minor": 5
}
