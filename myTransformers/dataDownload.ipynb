{
 "cells": [
  {
   "cell_type": "code",
   "execution_count": null,
   "id": "1485d59e",
   "metadata": {},
   "outputs": [],
   "source": [
    "import ipywidgets as widgets\n",
    "\n",
    "from google.cloud import storage\n",
    "from datetime import datetime\n",
    "from tqdm.notebook import tqdm\n",
    "from IPython.display import display\n",
    "\n",
    "# download the selected sample files\n",
    "import tempfile\n",
    "\n",
    "from fastavro import reader\n",
    "import numpy as np\n",
    "import pandas as pd\n",
    "from glob import glob\n",
    "\n",
    "from datetime import datetime"
   ]
  },
  {
   "cell_type": "code",
   "execution_count": null,
   "id": "90b877b5",
   "metadata": {},
   "outputs": [],
   "source": [
    "class Storage:\n",
    "    def __init__(self):\n",
    "        self.client = storage.Client(project='augury-ctoo')\n",
    "        self.refresh_blobs()\n",
    "        self.timestamps = []\n",
    "        \n",
    "    def refresh_blobs(self):\n",
    "        self.blobs = []\n",
    "        for blob in self.client.list_blobs(\"transformers-ae\"):\n",
    "            self.blobs.append(blob)\n",
    "\n",
    "    def get_ids(self):\n",
    "        ids = []\n",
    "        for blob in self.blobs:\n",
    "            id = blob.name.split(\"_\")[0] + \"_\" + blob.name.split(\"_\")[1]\n",
    "            if id not in ids:\n",
    "                ids.append(id)\n",
    "\n",
    "        return ids\n",
    "    \n",
    "    def get_timestamps(self, id):\n",
    "        timestamps = []\n",
    "        for blob in self.blobs:\n",
    "            if blob.name.split(\"_\")[0] + \"_\" + blob.name.split(\"_\")[1] != id:\n",
    "                continue\n",
    "\n",
    "            ts = int(blob.name.split(\"_\")[2].split('.')[0])\n",
    "            o = (datetime.utcfromtimestamp(ts), blob)\n",
    "            if o not in timestamps:\n",
    "                timestamps.append(o)\n",
    "                \n",
    "        return timestamps\n",
    "    \n",
    "def search(id):\n",
    "    s.timestamps = s.get_timestamps(id)\n",
    "    if len(s.timestamps) == 0:\n",
    "        box2.layout = {'visibility': 'hidden'}\n",
    "        return\n",
    "\n",
    "    options = []\n",
    "    for t in s.timestamps:\n",
    "        options.append(t[0])\n",
    "        \n",
    "    selection_range_slider.options = options\n",
    "    selection_range_slider.index = (0, len(options)-1)\n",
    "    box2.layout = {'visibility': 'visible'}\n",
    "\n",
    "def on_dropdown_change(d):\n",
    "    search(d.new)\n",
    "    \n",
    "def on_go_button_clicked(h):\n",
    "    global blobs\n",
    "    blobs = []\n",
    "    for t in s.timestamps[selection_range_slider.index[0]:selection_range_slider.index[1]+1]:\n",
    "        blobs.append((t[0], t[1]))"
   ]
  },
  {
   "cell_type": "code",
   "execution_count": null,
   "id": "4eaf7e92",
   "metadata": {},
   "outputs": [],
   "source": [
    "s = Storage()\n",
    "\n",
    "timestamps = [0]\n",
    "selection_range_slider = widgets.SelectionRangeSlider(\n",
    "    options=timestamps,\n",
    "    index=(0, len(timestamps)-1),\n",
    "    orientation='vertical',\n",
    "    layout={'width': '500px'},\n",
    ")\n",
    "\n",
    "dropdown = widgets.Dropdown(\n",
    "    options=s.get_ids(),\n",
    "    description=\"id\"\n",
    ")\n",
    "\n",
    "go_button = widgets.Button(description=\"go!\")\n",
    "box1 = widgets.HBox([dropdown])\n",
    "box2 = widgets.VBox([selection_range_slider, go_button], layout={'visibility': 'hidden'})\n",
    "\n",
    " \n",
    "dropdown.observe(on_dropdown_change, 'value')\n",
    "search(dropdown.value)\n",
    "(dropdown.options)\n",
    "\n",
    "blobs = []\n",
    "\n",
    "go_button.on_click(on_go_button_clicked)\n",
    "\n",
    "widgets.VBox([box1, box2])"
   ]
  },
  {
   "cell_type": "code",
   "execution_count": null,
   "id": "ab77f513",
   "metadata": {},
   "outputs": [],
   "source": [
    "tempfiles = []\n",
    "with tqdm(total=len(blobs)) as pbar:\n",
    "    for (timestamp, blob) in blobs:\n",
    "            pbar.set_description(\"Downloading %s\" % blob.name)\n",
    "            fd, path = tempfile.mkstemp()\n",
    "            blob.download_to_filename(path)\n",
    "            tempfiles.append((blob.name, path, timestamp)) #, dropdown.value))\n",
    "            pbar.update(1)"
   ]
  },
  {
   "cell_type": "code",
   "execution_count": null,
   "id": "26608459",
   "metadata": {},
   "outputs": [],
   "source": [
    "with tqdm(total=len(tempfiles)) as pbar:\n",
    "    for (blob, path, timestamp) in tempfiles:\n",
    "        with open(path, 'rb') as f:\n",
    "            for d in reader(f):\n",
    "                pbar.set_description(\"Exporting %s\" % blob)\n",
    "                periode = 1000 * 1 / d['samplerate']\n",
    "                duration = np.arange(0, len(d['adc_signal_mv'][0]) * periode, periode)\n",
    "\n",
    "                df = None\n",
    "                if len(d['adc_signal_mv']) == 1:\n",
    "                    df = pd.DataFrame(list(zip(duration, d['adc_signal_mv'][0])), columns=['time_ms', 'adc_signal_mv'])\n",
    "                elif len(d['adc_signal_mv']) == 4:\n",
    "                    df = pd.DataFrame(list(\n",
    "                        zip(duration, \n",
    "                            d['adc_signal_mv'][0], \n",
    "                            d['adc_signal_mv'][1], \n",
    "                            d['adc_signal_mv'][2], \n",
    "                            d['adc_signal_mv'][3])), \n",
    "                            columns=['time_ms', 'ch0_adc_signal_mv', 'ch1_adc_signal_mv', 'ch2_adc_signal_mv', 'ch3_adc_signal_mv'])\n",
    "\n",
    "                df.to_feather(\"data/{}.fthr\".format(blob.split(\".avro\")[0]))\n",
    "                pbar.update(1)"
   ]
  }
 ],
 "metadata": {
  "kernelspec": {
   "display_name": "Python 3 (ipykernel)",
   "language": "python",
   "name": "python3"
  },
  "language_info": {
   "codemirror_mode": {
    "name": "ipython",
    "version": 3
   },
   "file_extension": ".py",
   "mimetype": "text/x-python",
   "name": "python",
   "nbconvert_exporter": "python",
   "pygments_lexer": "ipython3",
   "version": "3.9.7"
  },
  "varInspector": {
   "cols": {
    "lenName": 16,
    "lenType": 16,
    "lenVar": 40
   },
   "kernels_config": {
    "python": {
     "delete_cmd_postfix": "",
     "delete_cmd_prefix": "del ",
     "library": "var_list.py",
     "varRefreshCmd": "print(var_dic_list())"
    },
    "r": {
     "delete_cmd_postfix": ") ",
     "delete_cmd_prefix": "rm(",
     "library": "var_list.r",
     "varRefreshCmd": "cat(var_dic_list()) "
    }
   },
   "types_to_exclude": [
    "module",
    "function",
    "builtin_function_or_method",
    "instance",
    "_Feature"
   ],
   "window_display": false
  }
 },
 "nbformat": 4,
 "nbformat_minor": 5
}
