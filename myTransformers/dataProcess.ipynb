{
 "cells": [
  {
   "cell_type": "code",
   "execution_count": null,
   "id": "494055df",
   "metadata": {},
   "outputs": [],
   "source": [
    "import numpy as np\n",
    "import pandas as pd\n",
    "\n",
    "from scipy.signal import stft #Short Time Fourier Transform\n",
    "from scipy.spatial.distance import seuclidean #Standardized Euclidean Distance\n",
    "from scipy.stats import chi2 #Chi square distribution\n",
    "\n",
    "from dask.distributed import Client\n",
    "import dask.bag as db\n",
    "from glob import glob\n",
    "\n",
    "from datetime import datetime"
   ]
  },
  {
   "cell_type": "code",
   "execution_count": null,
   "id": "3e93711d",
   "metadata": {},
   "outputs": [],
   "source": [
    "def getParams(fs, alphaMax=2000, dfreq=1500, fMin=5e+4):\n",
    "    # produces the parameters for the cyclic spectrum estimation\n",
    "    \n",
    "    # fs - samping rate [sample/sec]\n",
    "    # alphaMax - max modulation frequency [Hz]\n",
    "    # dfreq - carrier frequency resolution [Hz]\n",
    "    # fMin - min carrier frequency [Hz]\n",
    "\n",
    "    # STFT windows' hop [sample]\n",
    "    R = int(np.floor(fs / (2 * alphaMax))) \n",
    "    # STFT window length [sample]\n",
    "    Nw = int(fs / dfreq)\n",
    "\n",
    "    # Hanning window\n",
    "    w = np.hanning(Nw)\n",
    "    # Dirichlet kernel parameter (oreder)\n",
    "    P = int(np.round((Nw - 1) / (2 * R)))\n",
    "    # Dirichlet kernel\n",
    "    D = np.sum(\n",
    "        [np.exp(2 * np.pi * 1j * p *(np.arange(Nw) - Nw / 2) / Nw) for p in np.arange(- P, P + 1)], \n",
    "        axis=0\n",
    "    )\n",
    "    D = D.real\n",
    "    return fMin, R, Nw, w, D"
   ]
  },
  {
   "cell_type": "code",
   "execution_count": null,
   "id": "79ce20bd",
   "metadata": {},
   "outputs": [],
   "source": [
    "def getCS(x, fs, approxCoh=True, normalization=False, alphaMax=2000, dfreq=1500): \n",
    "    # An implementation of the cyclic spectral correlation and cyclic spectral coherence according to \n",
    "    # Borghesani, P., and J. Antoni. \"A faster algorithm for the calculation of the fast spectral correlation.\" \n",
    "    # Mechanical Systems and Signal Processing 111 (2018): 113-118.\n",
    "    \n",
    "    #inputs:\n",
    "    # x - signal\n",
    "    # fs - sampling rate [sample/sec]\n",
    "    # approxCoh - neglect the deviation of the carrier freqeuncy due to the computation \n",
    "    # method for the estimation of the coherence Sxx(f-2 * alpha) = Sxx(f) \n",
    "    # normalization - calculation of the normalization factor\n",
    "    # alphaMax - maximal modulation frequency [Hz]\n",
    "    # dfreq - minimal carrier frequency [Hz]\n",
    "    \n",
    "    # comment: \n",
    "    # another approximation is applied always: S(f, alpha)=S(f-2*alpha, alpha)\n",
    "    # this part should not affect the detection and it is mainly cosmetic\n",
    "    \n",
    "    fMin, R, Nw, w, D = getParams(fs, alphaMax=alphaMax, dfreq=dfreq)\n",
    "\n",
    "    # STFT with with Hanning window \n",
    "    X_w = stft(x, fs=fs, window=w, nperseg=Nw, noverlap=Nw - R, nfft=Nw, return_onesided=True)[-1]\n",
    "    # STFT with with Hanning multiplied by Dirichlet kernel window\n",
    "    f, t, X_w_d = stft(x, fs=fs, window=w * D, nperseg=Nw, noverlap=Nw - R, nfft=Nw, return_onesided=True)\n",
    "\n",
    "    if approxCoh:\n",
    "        # here I save some computation time by removing the frequencies below fMin.\n",
    "        X_w = X_w[f >= fMin, :-1]\n",
    "        X_w_d = X_w_d[f >= fMin, :-1]\n",
    "\n",
    "    # Cyclcic Spectrum\n",
    "    CS = np.fft.fft(np.conjugate(X_w) * X_w_d, axis=1).T\n",
    "    # Modulation frequency vector\n",
    "    alpha = np.fft.fftfreq(X_w_d.shape[1], R / fs)\n",
    "    # remove the negative modulation frequency part\n",
    "    pistiveAlphaCond = alpha >= 0\n",
    "    CS = CS[pistiveAlphaCond, :]\n",
    "    alpha = alpha[pistiveAlphaCond]\n",
    "\n",
    "    if normalization:\n",
    "        # here I implemented the normalization but did not find it useful - the results' improvement is not impressive.\n",
    "        normalizingFactor = np.fft.fft((w**2) * D, int(R * (1 + (x.size - Nw) / R)))[:np.sum(pistiveAlphaCond)]\n",
    "        normalizingFactor *= fs * X_w_d.shape[1]\n",
    "        CS = (CS.T / normalizingFactor).T\n",
    "        normalizingFactor_abs = np.abs(normalizingFactor)\n",
    "        normalizingFactorCond = normalizingFactor_abs / np.max(normalizingFactor_abs) > 0.95\n",
    "        CS = CS[normalizingFactorCond, :]\n",
    "    else:\n",
    "        normalizingFactorCond = np.ones(np.sum(pistiveAlphaCond), dtype=bool)\n",
    "\n",
    "\n",
    "    # Cyclic Coherence\n",
    "    CS_abs = np.abs(CS)\n",
    "    if approxCoh:\n",
    "        # second approximation - neglect the impact of the modulation frquency on the spectrum\n",
    "        CCoh = CS_abs / CS_abs[0, :]\n",
    "    else:\n",
    "        inds = np.atleast_2d(np.arange(f.size)) - np.atleast_2d((np.arange(CS.shape[0]) * Nw) / (R * alpha.size)).T\n",
    "        inds = inds.astype(int)\n",
    "        CCoh = CS_abs / np.sqrt(CS_abs[0, :] * CS_abs[0, inds])\n",
    "        CS = CS[:, f >= fMin]\n",
    "        CCoh = CCoh[:, f >= fMin]\n",
    "\n",
    "    alpha = alpha[normalizingFactorCond]\n",
    "    f = f[f >= fMin]\n",
    "\n",
    "    return CS, CCoh, f, alpha"
   ]
  },
  {
   "cell_type": "code",
   "execution_count": null,
   "id": "b08e4c02",
   "metadata": {},
   "outputs": [],
   "source": [
    "def getPvalEES(file, alphaMax=2000, dfreq=1500, alphaLims=[0.01, 0.51]):\n",
    "    #wrapper for getCS + extracter of the p-value between the 100Hz harmonics to the background\n",
    "    \n",
    "    #inputs:\n",
    "    # file - file name\n",
    "    # alphaMax - max modulation frequency [Hz]\n",
    "    # dfreq - carrier frequency resolution [Hz]\n",
    "    # alphaLims - relative limits (0:1) of the feature extractor with respect to the modulation frequency \n",
    "    \n",
    "    df = pd.read_feather(file)\n",
    "    # rounding sample length for precise frequency resolution\n",
    "    df = df[df.time_ms < np.round(df.time_ms.values[-1] / 1000) * 1000]\n",
    "    \n",
    "    # sampling rate [sample/sec]\n",
    "    fs = 1000 / df.iloc[1, 0] \n",
    "    \n",
    "    pValue = []\n",
    "    EESs = []\n",
    "    #iteration over sampling channels\n",
    "    for ch in np.arange(1, df.shape[1]):\n",
    "        x = df.iloc[:, ch].values\n",
    "        \n",
    "        CS, CCoh, f, alpha = getCS(x, fs, alphaMax=alphaMax, dfreq=dfreq, normalization=False)\n",
    "        CCoh_abs = np.abs(CCoh.T)\n",
    "        \n",
    "        # cutting out with respect to the limits of the modulation frequency\n",
    "        edgeCond = (alpha > alphaMax * alphaLims[0]) & (alpha < alphaMax * alphaLims[1])\n",
    "        CCoh_abs = CCoh_abs[:, edgeCond]\n",
    "        alpha = alpha[edgeCond]\n",
    "        \n",
    "        #Enhenced Envelope Spectrum\n",
    "        EES = CCoh_abs.sum(axis=0) \n",
    "    \n",
    "        # condition for harmonics of 100Hz\n",
    "        cond100 = np.mod(alpha, 100) == 0\n",
    "        cond360 = alpha > 360\n",
    "        EES_PD = EES[cond100 & cond360]\n",
    "        EESnot100 = EES[~cond100]\n",
    "        \n",
    "        # standardized Euclidean distance between the distribution of the background spectrum to the 100Hz harmonics\n",
    "        SED = seuclidean(\n",
    "            EES_PD, \n",
    "            EESnot100.mean() * np.ones_like(EES_PD), \n",
    "            EESnot100.var() * np.ones_like(EES_PD)\n",
    "        )\n",
    "        pValue.append(chi2(EES_PD.size).sf(SED))\n",
    "        EESs.append(EES)\n",
    "        \n",
    "    res = {\n",
    "        'channel': np.arange(1, df.shape[1]),  \n",
    "        'pValue': pValue, \n",
    "        'alpha': alpha, \n",
    "        'EESs': EESs, \n",
    "        'file': file\n",
    "    }\n",
    "    \n",
    "    return res"
   ]
  },
  {
   "cell_type": "markdown",
   "id": "a81a60b6",
   "metadata": {},
   "source": [
    "### Following allows running a smaller batch of data"
   ]
  },
  {
   "cell_type": "code",
   "execution_count": null,
   "id": "e6a41a4f",
   "metadata": {},
   "outputs": [],
   "source": [
    "# count = {a: 0 for a in list(set(f.split('/')[1].split('_16')[0] for f in files))}\n",
    "# calcFiles = []\n",
    "# for f in files[::-1]:\n",
    "#     for k in count.keys():\n",
    "#         if k in f:\n",
    "#             count[k] += 1\n",
    "#             calcFiles.append(f)\n",
    "#             break\n",
    "#     if count[k] == 200:\n",
    "#         count.pop(k, None)\n",
    "#     if len(count.keys()) == 0:\n",
    "#         break\n",
    "# len(calcFiles)\n",
    "\n",
    "# files = calcFiles"
   ]
  },
  {
   "cell_type": "markdown",
   "id": "e4243af0",
   "metadata": {},
   "source": [
    "### Calculation of the features"
   ]
  },
  {
   "cell_type": "code",
   "execution_count": null,
   "id": "804cf302",
   "metadata": {},
   "outputs": [],
   "source": [
    "resFold = 'resPvalueHighHarmonicVSallSpect'"
   ]
  },
  {
   "cell_type": "code",
   "execution_count": null,
   "id": "74e267a0",
   "metadata": {},
   "outputs": [],
   "source": [
    "with Client() as client:\n",
    "    display(client)\n",
    "    d = db.from_sequence(glob('data/*.fthr'))\n",
    "    df = d.map(getPvalEES).to_dataframe()\n",
    "    df.to_parquet(resFold)"
   ]
  },
  {
   "cell_type": "code",
   "execution_count": null,
   "id": "e5c2a408",
   "metadata": {},
   "outputs": [],
   "source": [
    "from glob import glob\n",
    "df = pd.read_parquet(resFold)\n",
    "df"
   ]
  },
  {
   "cell_type": "code",
   "execution_count": null,
   "id": "0de873b5",
   "metadata": {},
   "outputs": [],
   "source": [
    "df = df.assign(sensor=df.file.apply(lambda x: x.split('/')[-1].split('_16')[0]))\n",
    "df = df.assign(time_num=df.file.apply(lambda x: int(x.split('/')[-1].split('_')[-1].split('.')[0])))\n",
    "df = df.assign(time=df.time_num.apply(datetime.fromtimestamp))\n",
    "df = df.reset_index(drop=True)\n",
    "df = df.explode(column=['channel', 'pValue', 'EESs'])\n",
    "df"
   ]
  },
  {
   "cell_type": "code",
   "execution_count": null,
   "id": "096bbd9f",
   "metadata": {},
   "outputs": [],
   "source": [
    "df = df[~((df.time < '2021-08-15') & (df.sensor=='TRF01_IW976-0032'))]\n",
    "df = df[~((df.time < '2021-11-01') & (df.sensor=='T7_ANALOGMAX-1'))]\n",
    "df"
   ]
  },
  {
   "cell_type": "code",
   "execution_count": null,
   "id": "3954d9ef",
   "metadata": {
    "scrolled": false
   },
   "outputs": [],
   "source": [
    "for title, group in df.groupby(['sensor', 'channel']):\n",
    "    ax = group.plot(x='time', y='pValue', title=str(title[0])+ ' ' + str(title[1]), figsize=(19, 5))\n",
    "    ax.grid()"
   ]
  },
  {
   "cell_type": "code",
   "execution_count": null,
   "id": "498beda7",
   "metadata": {},
   "outputs": [],
   "source": [
    "df = df.assign(PD=df.sensor.apply(lambda x: not (('T7' in x) or ('TRF10' in x))))\n",
    "df"
   ]
  },
  {
   "cell_type": "code",
   "execution_count": null,
   "id": "ce9f87a3",
   "metadata": {},
   "outputs": [],
   "source": [
    "import matplotlib.pyplot as plt\n",
    "\n",
    "TP = []\n",
    "FP = []\n",
    "for th in np.arange(0, 1.01, 0.01):\n",
    "    dfTemp = df.assign(detectPD=df.pValue < th)\n",
    "    dfTemp[dfTemp.PD].groupby(['sensor', 'channel'])['detectPD'].mean().reset_index()\n",
    "    TP.append(dfTemp.loc[dfTemp.PD].groupby(['sensor', 'channel'])['detectPD'].mean().mean())\n",
    "    FP.append(dfTemp.loc[~dfTemp.PD].groupby(['sensor', 'channel'])['detectPD'].mean().mean())\n",
    "plt.figure(figsize=[10, 10])\n",
    "plt.plot(FP, TP)\n",
    "plt.xlabel('FP')\n",
    "plt.ylabel('TP')\n",
    "plt.xticks(np.arange(0, 1, 0.05))\n",
    "plt.yticks(np.arange(0, 1, 0.05))\n",
    "plt.autoscale(enable=True, tight=True)\n",
    "plt.title(\"ROC: AUC={:.2f}\".format(np.trapz(TP, FP)))\n",
    "plt.grid()\n",
    "plt.show()"
   ]
  },
  {
   "cell_type": "code",
   "execution_count": null,
   "id": "fa3864cf",
   "metadata": {},
   "outputs": [],
   "source": [
    "import plotly.express as px\n",
    "fig = px.ecdf(\n",
    "    df.assign(sensor=df.sensor + '-' + df.channel.apply(str)),  \n",
    "    x='pValue',\n",
    "    color='sensor',\n",
    "    title='CDF'\n",
    ")\n",
    "fig.show()\n",
    "fig.write_html('cdf.html')"
   ]
  },
  {
   "cell_type": "code",
   "execution_count": null,
   "id": "8b74d53b",
   "metadata": {
    "scrolled": false
   },
   "outputs": [],
   "source": [
    "def plotRow(row):\n",
    "    plt.figure(figsize=[19, 5])\n",
    "    plt.plot(row['alpha'], row['EESs'])\n",
    "    plt.grid()\n",
    "    plt.title(row['file'])\n",
    "    plt.show()\n",
    "#plotting the false alarms\n",
    "dfFP = df[(~df.PD) & (df.pValue < 0.1)].sort_values(by='pValue')\n",
    "dfFP.apply(plotRow, axis=1);"
   ]
  },
  {
   "cell_type": "code",
   "execution_count": null,
   "id": "f525ace2",
   "metadata": {},
   "outputs": [],
   "source": [
    "dfFP"
   ]
  },
  {
   "cell_type": "markdown",
   "id": "38d4f8b7",
   "metadata": {},
   "source": [
    "### Code for avro files - runs significantly slower"
   ]
  },
  {
   "cell_type": "code",
   "execution_count": null,
   "id": "eef0abf1",
   "metadata": {},
   "outputs": [],
   "source": [
    "# def getPvalEESavro(avroDict, alphaMax=2000, dfreq=1500, alphaLims=[0.01, 0.51]):\n",
    "#     #wrapper for getCS + extracter of the p-value between the 100Hz harmonics to the background\n",
    "    \n",
    "#     #inputs:\n",
    "#     # file - file name\n",
    "#     # alphaMax - max modulation frequency [Hz]\n",
    "#     # dfreq - carrier frequency resolution [Hz]\n",
    "#     # alphaLims - relative limits (0:1) of the feature extractor with respect to the modulation frequency \n",
    "    \n",
    "#     # sampling rate [sample/sec]\n",
    "#     fs = avroDict['samplerate']\n",
    "    \n",
    "#     pValue = []\n",
    "#     EESs = []\n",
    "#     #iteration over sampling channels\n",
    "#     for x in avroDict['adc_signal_mv']:\n",
    "#         # rounding sample length for precise frequency resolution\n",
    "#         x = x[:int(np.floor(len(x) / fs) * fs)]\n",
    "        \n",
    "#         CS, CCoh, f, alpha = getCS(x, fs, alphaMax=alphaMax, dfreq=dfreq, normalization=False)\n",
    "#         CCoh_abs = np.abs(CCoh.T)\n",
    "        \n",
    "#         # cutting out with respect to the limits of the modulation frequency\n",
    "#         edgeCond = (alpha > alphaMax * alphaLims[0]) & (alpha < alphaMax * alphaLims[1])\n",
    "#         CCoh_abs = CCoh_abs[:, edgeCond]\n",
    "#         alpha = alpha[edgeCond]\n",
    "        \n",
    "#         #Enhenced Envelope Spectrum\n",
    "#         EES = CCoh_abs.sum(axis=0) \n",
    "    \n",
    "#         # condition for harmonics of 100Hz\n",
    "#         cond100 = np.mod(alpha, 100) == 0\n",
    "#         cond360 = alpha > 360\n",
    "#         EES_PD = EES[cond100 & cond360]\n",
    "#         EESnot100 = EES[~cond100]\n",
    "        \n",
    "#         # standardized Euclidean distance between the distribution of the background spectrum to the 100Hz harmonics\n",
    "#         SED = seuclidean(\n",
    "#             EES_PD, \n",
    "#             EESnot100.mean() * np.ones_like(EES_PD), \n",
    "#             EESnot100.var() * np.ones_like(EES_PD)\n",
    "#         )\n",
    "#         pValue.append(chi2(EES_PD.size).sf(SED))\n",
    "#         EESs.append(EES)\n",
    "        \n",
    "#     res = {\n",
    "#         'channel': np.arange(len(avroDict['adc_signal_mv'])),  \n",
    "#         'pValue': pValue, \n",
    "#         'alpha': alpha, \n",
    "#         'EESs': EESs, \n",
    "#         'timestamp': avroDict['timestamp'],\n",
    "#         'id': avroDict['id']\n",
    "#     }\n",
    "    \n",
    "#     return res"
   ]
  },
  {
   "cell_type": "code",
   "execution_count": null,
   "id": "746397d8",
   "metadata": {},
   "outputs": [],
   "source": [
    "# with Client() as client:\n",
    "#     display(client)\n",
    "#     d = db.read_avro(glob('dataAvro/*'), blocksize=None)\n",
    "#     df = d.map(getPvalEESavro).to_dataframe()\n",
    "#     df.to_parquet(resFile+'_avro')"
   ]
  },
  {
   "cell_type": "code",
   "execution_count": null,
   "id": "a03c274e",
   "metadata": {},
   "outputs": [],
   "source": []
  }
 ],
 "metadata": {
  "kernelspec": {
   "display_name": "Python 3 (ipykernel)",
   "language": "python",
   "name": "python3"
  },
  "language_info": {
   "codemirror_mode": {
    "name": "ipython",
    "version": 3
   },
   "file_extension": ".py",
   "mimetype": "text/x-python",
   "name": "python",
   "nbconvert_exporter": "python",
   "pygments_lexer": "ipython3",
   "version": "3.9.7"
  },
  "varInspector": {
   "cols": {
    "lenName": 16,
    "lenType": 16,
    "lenVar": 40
   },
   "kernels_config": {
    "python": {
     "delete_cmd_postfix": "",
     "delete_cmd_prefix": "del ",
     "library": "var_list.py",
     "varRefreshCmd": "print(var_dic_list())"
    },
    "r": {
     "delete_cmd_postfix": ") ",
     "delete_cmd_prefix": "rm(",
     "library": "var_list.r",
     "varRefreshCmd": "cat(var_dic_list()) "
    }
   },
   "position": {
    "height": "396.844px",
    "left": "1115px",
    "right": "20px",
    "top": "120px",
    "width": "305px"
   },
   "types_to_exclude": [
    "module",
    "function",
    "builtin_function_or_method",
    "instance",
    "_Feature"
   ],
   "window_display": false
  }
 },
 "nbformat": 4,
 "nbformat_minor": 5
}
