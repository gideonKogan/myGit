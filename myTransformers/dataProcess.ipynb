{
 "cells": [
  {
   "cell_type": "code",
   "execution_count": 1,
   "id": "148e1896",
   "metadata": {},
   "outputs": [],
   "source": [
    "def calc(file):\n",
    "    import pandas as pd\n",
    "    import numpy as np\n",
    "    from numpy.lib.stride_tricks import sliding_window_view\n",
    "    from scipy.signal import stft\n",
    "    from os.path import isfile\n",
    "    \n",
    "    def getParams (fs, alphaMax=1000, df=100, fMin=5e+4):\n",
    "        # alphaMax - max modulation frequency\n",
    "        # df - carrier frequency resolution\n",
    "        # fMin - min carrier frequency\n",
    "\n",
    "        # STFT windows' hop\n",
    "        R = int(np.floor(fs / (2 * alphaMax))) #shift of the stft\n",
    "        # STFT window length\n",
    "        Nw = int(fs / df)\n",
    "        # number of STFT windows\n",
    "    #     M = int((x.size - Nw) / R + 1)\n",
    "\n",
    "        # hannind window\n",
    "        w = np.hanning(Nw)\n",
    "        # Dirichlet kernel parameter\n",
    "        P = int(np.round((Nw - 1) / (2 * R)))\n",
    "        # Dirichlet kernel\n",
    "        D = np.sum(\n",
    "            [np.exp(2 * np.pi * 1j * p *(np.arange(Nw) - Nw / 2) / Nw) for p in np.arange(- P, P + 1)], \n",
    "            axis=0\n",
    "        )\n",
    "        D = D.real\n",
    "        return fMin, R, Nw, w, D\n",
    "\n",
    "    def getCS(x, fs):\n",
    "        fMin, R, Nw, w, D = getParams(fs)\n",
    "\n",
    "        _, _, X_w = stft(x, fs=fs, window=w, nperseg=Nw, noverlap=Nw - R, nfft=Nw, return_onesided=True)\n",
    "        f, t, x_w_d = stft(x, fs=fs, window=w * D, nperseg=Nw, noverlap=Nw - R, nfft=Nw, return_onesided=True)\n",
    "\n",
    "        # here I save some computation time (factor of fMin / fs ~ 4) but later I have to implement the approsimation \n",
    "        # to the coherence by neglecting the frequency shift CCoh = CS / CS[0, :]\n",
    "        X_w = X_w[f >= fMin, :]\n",
    "        x_w_d = x_w_d[f >= fMin, :]\n",
    "\n",
    "        CS = np.fft.fft(np.conjugate(X_w) * x_w_d, axis=1).T\n",
    "\n",
    "        alpha = np.fft.fftfreq(x_w_d.shape[1], R / fs)\n",
    "        CS = CS[alpha >= 0, :]\n",
    "        CCoh = CS / CS[0, :]\n",
    "\n",
    "        alpha = alpha[alpha >= 0]\n",
    "        f = f[f >= fMin]\n",
    "        \n",
    "        EES_CS = np.sum(np.abs(CS), axis=1)\n",
    "        EES_CCoh = np.sum(np.abs(CCoh), axis=1)\n",
    "\n",
    "        alpha = alpha[alpha >= 0]\n",
    "        f = f[f >= fMin]\n",
    "\n",
    "        return CS, CCoh, f, alpha, EES_CS, EES_CCoh\n",
    "\n",
    "    df = pd.read_feather(file)\n",
    "    fs = 1 / df.iloc[1, 0] * 1000\n",
    "    for iCh in range(1, df.shape[1]):\n",
    "        newFileCS = file.replace('/', '/' + str(iCh) + '-cs-').replace('.fthr', '.npy')\n",
    "        newFileCCoh = file.replace('/', '/' + str(iCh) + '-ccoh-').replace('.fthr', '.npy')\n",
    "        newFileEES_CS = file.replace('/', '/' + str(iCh) + '-EEScs-').replace('.fthr', '.npy')\n",
    "        newFileEES_CCoh = file.replace('/', '/' + str(iCh) + '-EESccoh-').replace('.fthr', '.npy')\n",
    "        newFileAlpha = file.split('_16')[0] + '_alpha.npy'\n",
    "        newFileFreq = file.split('_16')[0] + '_freq.npy'\n",
    "        if isfile(newFileEES_CS) and isfile(newFileEES_CCoh):\n",
    "            continue\n",
    "        CS, CCoh, freq, alpha, EES_CS, EES_CCoh = getCS(df.iloc[:, iCh].to_numpy(), fs)\n",
    "        \n",
    "        if not isfile(newFileAlpha):\n",
    "            np.save(newFileAlpha, alpha)\n",
    "        if not isfile(newFileFreq):\n",
    "            np.save(newFileFreq, freq)\n",
    "#         np.save(newFileCS, CS)\n",
    "#         np.save(newFileCCoh, CCoh)\n",
    "#         np.save(newFileCS, CS)\n",
    "#         np.save(newFileCCoh, CCoh)\n",
    "        np.save(newFileEES_CS, EES_CS)\n",
    "        np.save(newFileEES_CCoh, EES_CCoh)"
   ]
  },
  {
   "cell_type": "code",
   "execution_count": 2,
   "id": "de37fbd0",
   "metadata": {
    "scrolled": false
   },
   "outputs": [
    {
     "name": "stdout",
     "output_type": "stream",
     "text": [
      "Starting 8 engines with <class 'ipyparallel.cluster.launcher.LocalEngineSetLauncher'>\n"
     ]
    },
    {
     "data": {
      "application/vnd.jupyter.widget-view+json": {
       "model_id": "71811f8e70c94393b5c06aec0b76e746",
       "version_major": 2,
       "version_minor": 0
      },
      "text/plain": [
       "  0%|          | 0/8 [00:00<?, ?engine/s]"
      ]
     },
     "metadata": {},
     "output_type": "display_data"
    },
    {
     "data": {
      "application/vnd.jupyter.widget-view+json": {
       "model_id": "2b7fe15c5e59443fa970959c208ee00b",
       "version_major": 2,
       "version_minor": 0
      },
      "text/plain": [
       "calc:   0%|          | 0/11471 [00:00<?, ?tasks/s]"
      ]
     },
     "metadata": {},
     "output_type": "display_data"
    },
    {
     "name": "stdout",
     "output_type": "stream",
     "text": [
      "Stopping engine(s): 1643364445\n",
      "engine set stopped 1643364445: {'engines': {'0': {'exit_code': 0, 'pid': 18107, 'identifier': '0'}, '1': {'exit_code': 0, 'pid': 18108, 'identifier': '1'}, '2': {'exit_code': 0, 'pid': 18109, 'identifier': '2'}, '3': {'exit_code': 0, 'pid': 18110, 'identifier': '3'}, '4': {'exit_code': 0, 'pid': 18111, 'identifier': '4'}, '5': {'exit_code': 0, 'pid': 18112, 'identifier': '5'}, '6': {'exit_code': 0, 'pid': 18113, 'identifier': '6'}, '7': {'exit_code': 0, 'pid': 18114, 'identifier': '7'}}, 'exit_code': 0}\n",
      "Stopping controller\n",
      "Controller stopped: {'exit_code': 0, 'pid': 18095, 'identifier': 'ipcontroller-1643364444-thpw-18090'}\n"
     ]
    }
   ],
   "source": [
    "import ipyparallel as ipp\n",
    "from glob import glob\n",
    "from time import sleep\n",
    "\n",
    "\n",
    "with ipp.Cluster() as rc:\n",
    "    view = rc.load_balanced_view()\n",
    "    files = sorted(glob(\"data/*.fthr\"))\n",
    "    asyncresult = view.map_async(calc, files)\n",
    "    asyncresult.wait_interactive()\n",
    "    asyncresult.get()"
   ]
  },
  {
   "cell_type": "markdown",
   "id": "feca748e",
   "metadata": {},
   "source": [
    "### Visualization"
   ]
  },
  {
   "cell_type": "code",
   "execution_count": 13,
   "id": "9539e6b6",
   "metadata": {},
   "outputs": [
    {
     "data": {
      "text/plain": [
       "['29.5_ANALOGMAX-0_alpha.npy',\n",
       " '29.5_ANALOGMAX-1_alpha.npy',\n",
       " 'T7_ANALOGMAX-0_alpha.npy',\n",
       " 'T7_ANALOGMAX-1_alpha.npy',\n",
       " 'TRF01_IW976-0032_alpha.npy',\n",
       " 'TRF10_IW976-0032_alpha.npy']"
      ]
     },
     "metadata": {},
     "output_type": "display_data"
    },
    {
     "data": {
      "text/plain": [
       "['29.5_ANALOGMAX-0_freq.npy',\n",
       " '29.5_ANALOGMAX-1_freq.npy',\n",
       " 'T7_ANALOGMAX-0_freq.npy',\n",
       " 'T7_ANALOGMAX-1_freq.npy',\n",
       " 'TRF01_IW976-0032_freq.npy',\n",
       " 'TRF10_IW976-0032_freq.npy']"
      ]
     },
     "metadata": {},
     "output_type": "display_data"
    },
    {
     "data": {
      "text/plain": [
       "['1-EESccoh-29.5_ANALOGMAX-0',\n",
       " '1-EESccoh-29.5_ANALOGMAX-1',\n",
       " '1-EESccoh-T7_ANALOGMAX-0',\n",
       " '1-EESccoh-T7_ANALOGMAX-1',\n",
       " '1-EESccoh-TRF01_IW976-0032',\n",
       " '2-EESccoh-TRF01_IW976-0032',\n",
       " '3-EESccoh-TRF01_IW976-0032',\n",
       " '4-EESccoh-TRF01_IW976-0032',\n",
       " '1-EESccoh-TRF10_IW976-0032',\n",
       " '2-EESccoh-TRF10_IW976-0032',\n",
       " '3-EESccoh-TRF10_IW976-0032',\n",
       " '4-EESccoh-TRF10_IW976-0032']"
      ]
     },
     "metadata": {},
     "output_type": "display_data"
    },
    {
     "data": {
      "text/plain": [
       "['1-EEScs-29.5_ANALOGMAX-0',\n",
       " '1-EEScs-29.5_ANALOGMAX-1',\n",
       " '1-EEScs-T7_ANALOGMAX-0',\n",
       " '1-EEScs-T7_ANALOGMAX-1',\n",
       " '1-EEScs-TRF01_IW976-0032',\n",
       " '2-EEScs-TRF01_IW976-0032',\n",
       " '3-EEScs-TRF01_IW976-0032',\n",
       " '4-EEScs-TRF01_IW976-0032',\n",
       " '1-EEScs-TRF10_IW976-0032',\n",
       " '2-EEScs-TRF10_IW976-0032',\n",
       " '3-EEScs-TRF10_IW976-0032',\n",
       " '4-EEScs-TRF10_IW976-0032']"
      ]
     },
     "metadata": {},
     "output_type": "display_data"
    }
   ],
   "source": [
    "files = glob(\"data/*.npy\")\n",
    "alphas = sorted([l.split('/')[-1] for l in files if 'alpha.npy' in l])\n",
    "freqs = sorted([l.split('/')[-1] for l in files if 'freq.npy' in l])\n",
    "labels = set([l.split('_16')[0].split('/')[-1] for l in files])\n",
    "EESccohS = [l.split('_16')[0].split('/')[-1] for l in labels if 'EESccoh' in l]\n",
    "EEScsS = [l.split('_16')[0].split('/')[-1] for l in labels if 'EEScs' in l]\n",
    "EESccohS = sorted(EESccohS, key=lambda x: (x.split('-')[-2], x.split('-')[-1], x.split('-')[0]))\n",
    "EEScsS = sorted(EEScsS, key=lambda x: (x.split('-')[-2], x.split('-')[-1], x.split('-')[0]))\n",
    "\n",
    "display(alphas)\n",
    "display(freqs)\n",
    "display(EESccohS)\n",
    "display(EEScsS)"
   ]
  },
  {
   "cell_type": "code",
   "execution_count": 14,
   "id": "721372f9",
   "metadata": {
    "scrolled": false
   },
   "outputs": [
    {
     "name": "stdout",
     "output_type": "stream",
     "text": [
      "1-EESccoh-29.5_ANALOGMAX-0\n",
      "1-EEScs-29.5_ANALOGMAX-0\n",
      "1-EESccoh-29.5_ANALOGMAX-1\n",
      "1-EEScs-29.5_ANALOGMAX-1\n",
      "1-EESccoh-T7_ANALOGMAX-0\n",
      "1-EEScs-T7_ANALOGMAX-0\n",
      "1-EESccoh-T7_ANALOGMAX-1\n",
      "1-EEScs-T7_ANALOGMAX-1\n",
      "1-EESccoh-TRF01_IW976-0032\n",
      "2-EESccoh-TRF01_IW976-0032\n",
      "3-EESccoh-TRF01_IW976-0032\n",
      "4-EESccoh-TRF01_IW976-0032\n",
      "1-EEScs-TRF01_IW976-0032\n",
      "2-EEScs-TRF01_IW976-0032\n",
      "3-EEScs-TRF01_IW976-0032\n",
      "4-EEScs-TRF01_IW976-0032\n",
      "1-EESccoh-TRF10_IW976-0032\n",
      "2-EESccoh-TRF10_IW976-0032\n",
      "3-EESccoh-TRF10_IW976-0032\n",
      "4-EESccoh-TRF10_IW976-0032\n",
      "1-EEScs-TRF10_IW976-0032\n",
      "2-EEScs-TRF10_IW976-0032\n",
      "3-EEScs-TRF10_IW976-0032\n",
      "4-EEScs-TRF10_IW976-0032\n"
     ]
    }
   ],
   "source": [
    "from datetime import datetime\n",
    "\n",
    "import plotly.express as px\n",
    "import plotly.io as pio\n",
    "pio.renderers.default = 'browser'\n",
    "\n",
    "def plotSpectro(sensor, alpha, fileList):\n",
    "    fileSensor = sorted([file for file in fileList if sensor in file])\n",
    "    for fileType in fileSensor:\n",
    "        print(fileType)\n",
    "        files = sorted(glob('data/' + fileType + '*'))\n",
    "        EESsNP = np.array([np.load(file) for file in files])\n",
    "        time = [datetime.fromtimestamp(int(file.split('_')[-1].split('.')[0])) for file in files]\n",
    "        alphaVec = np.load('data/' + alpha)\n",
    "        vmax = np.percentile(EESsNP.T, 99.7)\n",
    "        \n",
    "        fig = px.imshow(\n",
    "            EESsNP.T,\n",
    "            labels=dict(y=\"Modulation Frequency [Hz]\"),            \n",
    "            x=time,\n",
    "            y=alphaVec,\n",
    "            title=fileType,\n",
    "            zmax=vmax\n",
    "               )\n",
    "        \n",
    "        fig.update_layout(\n",
    "            yaxis = dict(\n",
    "                tickmode = 'linear',\n",
    "                dtick = 50,\n",
    "                autorange=True,\n",
    "            )\n",
    "        )\n",
    "\n",
    "        fig.write_html('visualization/'+ fileType + \".html\")\n",
    "\n",
    "for alpha in alphas:\n",
    "    sensor = alpha.split('_alph')[0]\n",
    "    plotSpectro(sensor, alpha, EESccohS)\n",
    "    plotSpectro(sensor, alpha, EEScsS)"
   ]
  },
  {
   "cell_type": "code",
   "execution_count": null,
   "id": "81e9a2e1",
   "metadata": {},
   "outputs": [],
   "source": []
  }
 ],
 "metadata": {
  "kernelspec": {
   "display_name": "Python 3 (ipykernel)",
   "language": "python",
   "name": "python3"
  },
  "language_info": {
   "codemirror_mode": {
    "name": "ipython",
    "version": 3
   },
   "file_extension": ".py",
   "mimetype": "text/x-python",
   "name": "python",
   "nbconvert_exporter": "python",
   "pygments_lexer": "ipython3",
   "version": "3.9.7"
  },
  "varInspector": {
   "cols": {
    "lenName": 16,
    "lenType": 16,
    "lenVar": 40
   },
   "kernels_config": {
    "python": {
     "delete_cmd_postfix": "",
     "delete_cmd_prefix": "del ",
     "library": "var_list.py",
     "varRefreshCmd": "print(var_dic_list())"
    },
    "r": {
     "delete_cmd_postfix": ") ",
     "delete_cmd_prefix": "rm(",
     "library": "var_list.r",
     "varRefreshCmd": "cat(var_dic_list()) "
    }
   },
   "position": {
    "height": "275.844px",
    "left": "1550px",
    "right": "20px",
    "top": "120px",
    "width": "350px"
   },
   "types_to_exclude": [
    "module",
    "function",
    "builtin_function_or_method",
    "instance",
    "_Feature"
   ],
   "window_display": false
  }
 },
 "nbformat": 4,
 "nbformat_minor": 5
}
