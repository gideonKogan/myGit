{
 "cells": [
  {
   "cell_type": "markdown",
   "id": "66064002",
   "metadata": {},
   "source": [
    "## Example for implementation of Spectrum estimation based on the Order Tracking\n",
    "\n",
    "My objective is to increase the coverage for machines with unstable operational conditions (load and torque). I have bumped into a crane with an unstable operational speed. For this case, I want to use Order Tracking, allowing further utilization of the already implemented spectrum analysis tools. Later, I think that we can use this technique for other equipment too. "
   ]
  },
  {
   "cell_type": "code",
   "execution_count": null,
   "id": "f2ce2ba0",
   "metadata": {},
   "outputs": [],
   "source": [
    "from glob import glob\n",
    "import numpy as np\n",
    "import matplotlib.pyplot as plt\n",
    "# %matplotlib notebook\n",
    "from scipy.signal import ellip, firwin, filtfilt, sosfreqz, sosfiltfilt\n",
    "from scipy.ndimage.filters import uniform_filter1d\n",
    "from scipy.fftpack import fft, fftfreq, next_fast_len\n",
    "from scipy.interpolate import interp1d"
   ]
  },
  {
   "cell_type": "markdown",
   "id": "48a2bce6",
   "metadata": {},
   "source": [
    "The magnetic file names"
   ]
  },
  {
   "cell_type": "code",
   "execution_count": null,
   "id": "eaeb3d47",
   "metadata": {},
   "outputs": [],
   "source": [
    "files = glob('Buffer Crane - 6022c7d2dbf9880001a364e9/*magnetic*')\n",
    "files[:5]"
   ]
  },
  {
   "cell_type": "code",
   "execution_count": null,
   "id": "ca238430",
   "metadata": {},
   "outputs": [],
   "source": [
    "def plotFiltResponse(sos, fs):\n",
    "    w, h = sosfreqz(sos, fs=fs, worN=200000)\n",
    "    dispCond = w < 20\n",
    "    plt.figure(figsize=[15, 5])\n",
    "    plt.plot(w[dispCond], abs(h[dispCond]))\n",
    "    plt.title('Filter frequency response')\n",
    "    plt.xlabel('Frequency [radians / second]')\n",
    "    plt.ylabel('Amplitude')\n",
    "    plt.grid()\n",
    "    plt.show()"
   ]
  },
  {
   "cell_type": "markdown",
   "id": "e3c0c23d",
   "metadata": {},
   "source": [
    "Magnetic file where the engine is on"
   ]
  },
  {
   "cell_type": "code",
   "execution_count": null,
   "id": "9a4dcdba",
   "metadata": {
    "scrolled": false
   },
   "outputs": [],
   "source": [
    "filesMagnetic = []\n",
    "for file in files:\n",
    "    x = np.load(file)\n",
    "    if 'sos' not in locals():\n",
    "        fs = 1 / x[0, 1]\n",
    "        sos = ellip(6, 1, 40, 2, btype='high', output='sos', fs=fs)\n",
    "#         plotFiltResponse(sos, fs)\n",
    "    temp = sosfiltfilt(sos, x[1, :])  \n",
    "    # looking for a file with activity\n",
    "    cond1 = (np.percentile(temp, 80) - np.percentile(temp, 20)) > 0.5\n",
    "    cond2 = x[1, :].mean() < 100\n",
    "    if (cond1 & cond2):\n",
    "#         plt.figure(figsize=[15, 5])\n",
    "#         plt.plot(x[0, :], x[1, :])\n",
    "#         plt.title(file.split('/')[-1])\n",
    "#         plt.show()\n",
    "        filesMagnetic.append(file)\n",
    "len(filesMagnetic)"
   ]
  },
  {
   "cell_type": "code",
   "execution_count": null,
   "id": "96329511",
   "metadata": {},
   "outputs": [],
   "source": [
    "def orderTrack(xMagnetic, x, t, fs, b=firwin(9, 0.1), isPlot=False):\n",
    "    #this function implements the order-tracking and the speed estimation (which actually should be in another function)\n",
    "    crossLocs = np.where(np.diff(np.sign(xMagnetic - np.median(xMagnetic))))[0]\n",
    "    # avoiding fault detection of crossing due to noise\n",
    "    crossLocs = crossLocs[np.where(np.diff(crossLocs)>30)]\n",
    "    #avoiding sampling of half-cycle, which leads to leakage\n",
    "    if crossLocs.shape[0] % 2:\n",
    "        crossLocs = crossLocs[:-1]\n",
    "\n",
    "    # locations of the estimated speed\n",
    "    speedLocs = (crossLocs[:-1] + crossLocs[1:]) / 2\n",
    "    speedTime = speedLocs / fs\n",
    "    # could skip estimation of the speed but it is nise to have it\n",
    "    speed = fs / np.diff(crossLocs) / 2\n",
    "    # due to higher harmonics, we have to filter. \n",
    "#     Here, I don't care that the distance between the samples is not constant\n",
    "    filtSpeed = filtfilt(b, 1, speed, padtype='even')\n",
    "    \n",
    "    # trimming the samples with a non-defined speed \n",
    "    cond = (t > speedTime[0]) & (t <speedTime[-1])\n",
    "    x = np.atleast_2d(x)[cond, :]\n",
    "    t = t[cond]\n",
    "    \n",
    "    #interpolation of speed\n",
    "    interpSpeedFun = interp1d(speedTime, filtSpeed, axis=0)\n",
    "    interpSpeed = interpSpeedFun(t)\n",
    "    \n",
    "    #phase in cycle units\n",
    "    phase = np.cumsum(interpSpeed) / fs \n",
    "    phase -= phase[0]\n",
    "    # avoiding aliasing by sampling at least as fast as previously\n",
    "    minDphase = np.min(speed) / fs\n",
    "    # finding the increment for a fast fft calculation\n",
    "    dPhase = phase[-1] / next_fast_len(np.ceil(phase[-1] / minDphase).astype(int))\n",
    "    resampledPhase = np.arange(0, phase[-1], dPhase)\n",
    "    interpFun = interp1d(phase, x, axis=0)\n",
    "    resampledX = interpFun(resampledPhase)\n",
    "    \n",
    "    if isPlot:\n",
    "    \n",
    "        plt.figure(figsize=[15, 5])\n",
    "        plt.plot(speedTime, speed)\n",
    "        plt.plot(speedTime, filtSpeed)\n",
    "        plt.legend(['Gross speed estimation', 'Filtered speed estimtaton'])\n",
    "        plt.xlabel('Time [sec]')\n",
    "        plt.ylabel('Shaft speed [Cycles / second]')\n",
    "        plt.plot()\n",
    "        plt.show()\n",
    "        \n",
    "        plt.figure(figsize=[15, 5])\n",
    "        plt.plot(t, xMagnetic)\n",
    "        plt.title(file.split('/')[-1])\n",
    "        plt.show()\n",
    "\n",
    "    return resampledPhase, resampledX, t, phase, interpSpeed, x"
   ]
  },
  {
   "cell_type": "markdown",
   "id": "06b0c16a",
   "metadata": {},
   "source": [
    "Packing the data of the vibration signals with magnetic signal"
   ]
  },
  {
   "cell_type": "code",
   "execution_count": null,
   "id": "43eff28f",
   "metadata": {
    "scrolled": false
   },
   "outputs": [],
   "source": [
    "for fileMagnetic in filesMagnetic:\n",
    "    print(fileMagnetic)\n",
    "    filesVib = glob(fileMagnetic.split('_plane_')[0] + '*vibration*')\n",
    "    xVibration = np.concatenate([np.atleast_2d(np.load(file)[1, :]) for file in filesVib]).T\n",
    "    \n",
    "    x = np.load(fileMagnetic)\n",
    "    t = x[0, :]\n",
    "    fs = 1 / (t[1] - t[0])\n",
    "    xMagnetic = x[1, :]\n",
    "    \n",
    "    files = [fileMagnetic] + filesVib\n",
    "    x = np.concatenate([np.atleast_2d(xMagnetic).T, xVibration], axis=1)\n",
    "    x -= x.mean(axis=0)\n",
    "    \n",
    "    resampledPhase, resampledX, t, phase, speed, xTrimmed = orderTrack(xMagnetic, x, t, fs)\n",
    "\n",
    "    plt.figure(figsize=[15, 5])\n",
    "    plt.plot(t, speed)\n",
    "    plt.ylabel('Shaft speed [cycle / sec]')\n",
    "    plt.xlabel('Time [sec]')\n",
    "    plt.grid()\n",
    "    plt.show()\n",
    "    \n",
    "    for iSig, file in enumerate(files):\n",
    "        plt.figure(figsize=[15, 5])\n",
    "\n",
    "        f = fftfreq(resampledX.shape[0], d=(resampledPhase[1] - resampledPhase[0]))\n",
    "        xWind = resampledX[:, iSig] * np.hanning(resampledX.shape[0])\n",
    "        plt.plot(f[f > 0], np.log(np.abs(fft(xWind, n=resampledX.shape[0])))[f > 0])\n",
    "\n",
    "        f = fftfreq(100000, d=1 / fs)\n",
    "        xWind = x[:, iSig] * np.hanning(x.shape[0])\n",
    "        plt.plot(f[f > 0] / speed.mean(), np.log(np.abs(fft(xWind, n=100000)))[f > 0])\n",
    "\n",
    "        plt.title(file.split('/')[-1])\n",
    "        plt.xlabel('Shaft Speed Order [-] / Frequency normalized by mean speed')\n",
    "        plt.ylabel('DFT-Absolute Value - log scale')\n",
    "        plt.xlim([0, 10])\n",
    "        plt.xticks(np.arange(10))\n",
    "        plt.legend(['Order tracking', 'Original DFT'])\n",
    "        plt.grid()\n",
    "        plt.show()"
   ]
  },
  {
   "cell_type": "markdown",
   "id": "6f616399",
   "metadata": {},
   "source": [
    "For non-stationary cases, we can see an improvement in the spectrum elements' decomposition. Besides that, we can see the following improvements:\n",
    "1. Reduction in the dc noise (probably from the hardware). Why?\n",
    "2. Reduction in the leakage (this one is yet pending improvement). Have been seen in multiple locations (see the last magnetic signal spectrum). This probably happens due to the trimming of the signal at the precise multiplication of the cycle.\n",
    "3. Concentration of the energy in the integration points, located at the harmonics of the shaft speed order.\n",
    "\n",
    "Points to improve:\n",
    "1. Trimming of the signal where the machine is off.\n",
    "2. figure out why we have DC."
   ]
  },
  {
   "cell_type": "code",
   "execution_count": null,
   "id": "5d58bdcb",
   "metadata": {},
   "outputs": [],
   "source": []
  }
 ],
 "metadata": {
  "kernelspec": {
   "display_name": "Python 3 (ipykernel)",
   "language": "python",
   "name": "python3"
  },
  "language_info": {
   "codemirror_mode": {
    "name": "ipython",
    "version": 3
   },
   "file_extension": ".py",
   "mimetype": "text/x-python",
   "name": "python",
   "nbconvert_exporter": "python",
   "pygments_lexer": "ipython3",
   "version": "3.9.8"
  }
 },
 "nbformat": 4,
 "nbformat_minor": 5
}
