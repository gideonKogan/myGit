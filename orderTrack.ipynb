{
 "cells": [
  {
   "cell_type": "markdown",
   "id": "66064002",
   "metadata": {},
   "source": [
    "## Example for implementation of Spectrum estimation based on the Order Tracking\n",
    "\n",
    "My objective is to increase the coverage for machines with unstable operational conditions (load and torque). I have bumped into a crane with an unstable operational speed. For this case, I want to use Order Tracking, allowing further utilization of the already implemented spectrum analysis tools. Later, I think that we can use this technique for other equipment too. "
   ]
  },
  {
   "cell_type": "code",
   "execution_count": null,
   "id": "f2ce2ba0",
   "metadata": {},
   "outputs": [],
   "source": [
    "from glob import glob\n",
    "import numpy as np\n",
    "import matplotlib.pyplot as plt\n",
    "%matplotlib notebook\n",
    "from scipy.signal import ellip, firwin, filtfilt, sosfreqz, sosfiltfilt\n",
    "from scipy.ndimage.filters import uniform_filter1d\n",
    "from scipy.fftpack import fft, fftfreq, next_fast_len\n",
    "from scipy.interpolate import interp1d"
   ]
  },
  {
   "cell_type": "markdown",
   "id": "48a2bce6",
   "metadata": {},
   "source": [
    "The magnetic file names"
   ]
  },
  {
   "cell_type": "code",
   "execution_count": null,
   "id": "eaeb3d47",
   "metadata": {},
   "outputs": [],
   "source": [
    "files = glob('60f5e7b1502edc0001230701/*magnetic*')\n",
    "files"
   ]
  },
  {
   "cell_type": "code",
   "execution_count": null,
   "id": "ca238430",
   "metadata": {},
   "outputs": [],
   "source": [
    "def plotFiltResponse(sos, fs):\n",
    "    w, h = sosfreqz(sos, fs=fs, worN=200000)\n",
    "    dispCond = w < 20\n",
    "    plt.figure(figsize=[9.5, 5])\n",
    "    plt.plot(w[dispCond], abs(h[dispCond]))\n",
    "    plt.title('Filter frequency response')\n",
    "    plt.xlabel('Frequency [radians / second]')\n",
    "    plt.ylabel('Amplitude')\n",
    "    plt.grid()\n",
    "    plt.show()"
   ]
  },
  {
   "cell_type": "markdown",
   "id": "e3c0c23d",
   "metadata": {},
   "source": [
    "Magnetic file where the engine is on"
   ]
  },
  {
   "cell_type": "code",
   "execution_count": null,
   "id": "9a4dcdba",
   "metadata": {
    "scrolled": false
   },
   "outputs": [],
   "source": [
    "filesMagnetic = []\n",
    "for file in files:\n",
    "    x = np.load(file)\n",
    "    if 'sos' not in locals():\n",
    "        fs = 1 / x[0, 1]\n",
    "        sosHigh = ellip(8, 1, 40, 2, btype='high', output='sos', fs=fs)\n",
    "#         plotFiltResponse(sos, fs)\n",
    "    temp = sosfiltfilt(sosHigh, x[1, :])  \n",
    "    # looking for a file with activity\n",
    "    cond1 = (np.percentile(temp, 80) - np.percentile(temp, 20)) > 0.5\n",
    "    cond2 = x[1, :].mean() < 100\n",
    "    if (cond1 & cond2):\n",
    "        plt.figure(figsize=[9.5, 5])\n",
    "        plt.plot(x[0, :], x[1, :])\n",
    "        plt.title(file.split('/')[-1])\n",
    "        plt.show()\n",
    "        filesMagnetic.append(file)\n",
    "len(filesMagnetic)"
   ]
  },
  {
   "cell_type": "code",
   "execution_count": null,
   "id": "87acdbf9",
   "metadata": {},
   "outputs": [],
   "source": [
    "def getSpeed(xMagnetic, tMagnetic, b=firwin(9, 0.1), isPlot=False):\n",
    "    # this function implements the speed estimation based on phase zero corssing and \n",
    "    # lowpass filtering of the estimated speed\n",
    "    crossLocs = np.where(np.diff(np.sign(xMagnetic - np.median(xMagnetic))))[0]\n",
    "    # avoiding fault detection of crossing due to noise\n",
    "    crossLocs = crossLocs[np.where(np.diff(crossLocs)>30)]\n",
    "    #avoiding sampling of half-cycle, which leads to leakage\n",
    "    if crossLocs.shape[0] % 2:\n",
    "        crossLocs = crossLocs[:-1]\n",
    "        # locations of the estimated speed\n",
    "    speedLocs = (crossLocs[:-1] + crossLocs[1:]) / 2\n",
    "    speedTime = speedLocs / fs\n",
    "    # could skip estimation of the speed but it is nise to have it\n",
    "    speed = fs / np.diff(crossLocs) / 2\n",
    "    # due to the presence of higher harmonics in the signal, we have to filter the estimated speed. \n",
    "    # Here, I don't care that the distance between the samples is not constant\n",
    "    filtSpeed = filtfilt(b, 1, speed, padtype='even')\n",
    "    \n",
    "    if isPlot:\n",
    "        plt.figure(figsize=[9.5, 5])\n",
    "        plt.plot(speedTime, speed)\n",
    "        plt.plot(speedTime, filtSpeed)\n",
    "        plt.legend(['Gross speed estimation', 'Filtered speed estimtaton'])\n",
    "        plt.xlabel('Time [sec]')\n",
    "        plt.ylabel('Shaft speed [Cycles / second]')\n",
    "        plt.plot()\n",
    "        plt.show()\n",
    "        \n",
    "    return filtSpeed, speedTime"
   ]
  },
  {
   "cell_type": "code",
   "execution_count": null,
   "id": "96329511",
   "metadata": {},
   "outputs": [],
   "source": [
    "def orderTrack(x, t, speed, speedTime):\n",
    "    #this function implements the order-tracking\n",
    "    \n",
    "    #setting x dimensionality \n",
    "    x = np.atleast_2d(x)\n",
    "    if (x.shape[1] > x.shape[0]):\n",
    "        x = x.T\n",
    "    \n",
    "    # trimming the samples with a non-defined speed \n",
    "    cond = (t > speedTime[0]) & (t <speedTime[-1])\n",
    "    x = x[cond, :]\n",
    "    t = t[cond]\n",
    "    \n",
    "    #interpolation of speed\n",
    "    interpSpeedFun = interp1d(speedTime, speed, axis=0)\n",
    "    interpSpeed = interpSpeedFun(t)\n",
    "     \n",
    "    #phase in cycle units\n",
    "    phase = np.cumsum(interpSpeed) * (t[1] - t[0])\n",
    "    phase -= phase[0]\n",
    "    # avoiding aliasing by sampling at least as fast as previously\n",
    "    minDphase = np.min(speed) * (t[1] - t[0])\n",
    "    # finding the increment for a fast fft calculation - \n",
    "    # considers having aggregation points at round shaft speed orders\n",
    "    dPhase = phase[-1] / next_fast_len(np.ceil(phase[-1] / minDphase).astype(int))\n",
    "    resampledPhase = np.arange(0, phase[-1], dPhase)\n",
    "    interpFun = interp1d(phase, x, axis=0)\n",
    "    resampledX = interpFun(resampledPhase)\n",
    "\n",
    "    return resampledPhase, resampledX, t, phase, interpSpeed, x"
   ]
  },
  {
   "cell_type": "markdown",
   "id": "06b0c16a",
   "metadata": {},
   "source": [
    "Packing the data of the vibration signals with magnetic signal"
   ]
  },
  {
   "cell_type": "code",
   "execution_count": null,
   "id": "43eff28f",
   "metadata": {
    "scrolled": false
   },
   "outputs": [],
   "source": [
    "for fileMagnetic in filesMagnetic:\n",
    "    print(fileMagnetic)\n",
    "    filesVib = glob(fileMagnetic.split('_plane_')[0] + '*vibration*')\n",
    "    xVibration = np.concatenate([np.atleast_2d(np.load(file)[1, :]) for file in filesVib]).T\n",
    "    xVibration -= xVibration.mean(axis=0)\n",
    "    tVibration = np.load(filesVib[0])[0, :]\n",
    "    \n",
    "    x = np.load(fileMagnetic)\n",
    "    tMagnetic = x[0, :]\n",
    "    xMagnetic = x[1, :]\n",
    "    \n",
    "    speed, speedTime = getSpeed(xMagnetic, tMagnetic, isPlot=True)\n",
    "    resampledPhase, resampledMagnetic, _, _, _, _ = orderTrack(xMagnetic, tMagnetic, speed, speedTime)\n",
    "    \n",
    "    plt.figure(figsize=[9.5, 5])\n",
    "    \n",
    "    f = fftfreq(resampledMagnetic.shape[0], d=(resampledPhase[1] - resampledPhase[0]))\n",
    "    xWind = np.squeeze(resampledMagnetic) * np.hanning(resampledMagnetic.shape[0])\n",
    "    dft = fft(xWind, n=xWind.shape[0])\n",
    "    positiveCond = f > 0\n",
    "    f = f[positiveCond]\n",
    "    dft = dft[positiveCond]\n",
    "    dft = np.log(np.abs(dft))\n",
    "    plt.plot(f, dft)\n",
    "    \n",
    "    f = fftfreq(xMagnetic.shape[0], d=(tMagnetic[1] - tMagnetic[0]))\n",
    "    xWind = np.squeeze(xMagnetic) * np.hanning(xMagnetic.shape[0])\n",
    "    dft = fft(xWind, n=xWind.shape[0])\n",
    "    positiveCond = f > 0\n",
    "    f = f[positiveCond]\n",
    "    dft = dft[positiveCond]\n",
    "    dft = np.log(np.abs(dft))\n",
    "    plt.plot(f / speed.mean(), dft)\n",
    "    \n",
    "    plt.xlabel('Shaft Speed Order [-] / Frequency normalized by mean speed')\n",
    "    plt.ylabel('DFT-Absolute Value - log scale')\n",
    "    plt.xlim([0, 10])\n",
    "    plt.xticks(np.arange(11))\n",
    "    plt.grid()\n",
    "    plt.show()\n",
    "    \n",
    "    resampledPhase, resampledVibration, t, _, _, _ = orderTrack(xVibration, tVibration, speed, speedTime)\n",
    "    \n",
    "    for iSig in np.arange(resampledVibration.shape[1]):\n",
    "        plt.figure(figsize=[9.5, 5])\n",
    "\n",
    "        f = fftfreq(resampledVibration.shape[0], d=(resampledPhase[1] - resampledPhase[0]))\n",
    "        xWind = np.squeeze(resampledVibration[:, iSig]) * np.hanning(resampledVibration.shape[0])\n",
    "        dft = fft(xWind, n=xWind.shape[0])\n",
    "        positiveCond = f > 0\n",
    "        f = f[positiveCond]\n",
    "        dft = dft[positiveCond]\n",
    "        dft = np.log(np.abs(dft))\n",
    "        plt.plot(f, dft)\n",
    "\n",
    "        f = fftfreq(xVibration.shape[0], d=(tVibration[1] - tVibration[0]))\n",
    "        xWind = np.squeeze(xVibration[:, iSig]) * np.hanning(tVibration.shape[0])\n",
    "        dft = fft(xWind, n=xWind.shape[0])\n",
    "        positiveCond = f > 0\n",
    "        f = f[positiveCond]\n",
    "        dft = dft[positiveCond]\n",
    "        dft = np.log(np.abs(dft))\n",
    "        plt.plot(f / speed.mean(), dft)\n",
    "\n",
    "        plt.xlabel('Shaft Speed Order [-] / Frequency normalized by mean speed')\n",
    "        plt.ylabel('DFT-Absolute Value - log scale')\n",
    "        plt.xlim([0, 30])\n",
    "        plt.xticks(np.arange(31))\n",
    "        plt.grid()\n",
    "        plt.show()"
   ]
  },
  {
   "cell_type": "markdown",
   "id": "6f616399",
   "metadata": {},
   "source": [
    "For non-stationary cases, we can see an improvement in the spectrum elements' decomposition. Besides that, we can see the following improvements:\n",
    "1. Reduction in the dc noise (probably from the hardware). Why?\n",
    "2. Reduction in the leakage (this one is yet pending improvement). Have been seen in multiple locations (see the last magnetic signal spectrum). This probably happens due to the trimming of the signal at the precise multiplication of the cycle.\n",
    "3. Concentration of the energy in the integration points, located at the harmonics of the shaft speed order.\n",
    "\n",
    "Points to improve:\n",
    "1. Trimming of the signal where the machine is off.\n",
    "2. figure out why we have DC."
   ]
  }
 ],
 "metadata": {
  "kernelspec": {
   "display_name": "Python 3 (ipykernel)",
   "language": "python",
   "name": "python3"
  },
  "language_info": {
   "codemirror_mode": {
    "name": "ipython",
    "version": 3
   },
   "file_extension": ".py",
   "mimetype": "text/x-python",
   "name": "python",
   "nbconvert_exporter": "python",
   "pygments_lexer": "ipython3",
   "version": "3.9.8"
  }
 },
 "nbformat": 4,
 "nbformat_minor": 5
}
