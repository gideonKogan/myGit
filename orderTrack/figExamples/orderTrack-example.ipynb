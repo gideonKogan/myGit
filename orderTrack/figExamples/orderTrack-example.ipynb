{
 "cells": [
  {
   "cell_type": "code",
   "execution_count": null,
   "id": "3cddc0a3",
   "metadata": {},
   "outputs": [],
   "source": [
    "import numpy as np\n",
    "import matplotlib.pyplot as plt"
   ]
  },
  {
   "cell_type": "code",
   "execution_count": null,
   "id": "b6c8e6fa",
   "metadata": {},
   "outputs": [],
   "source": [
    "def getTestCase():\n",
    "    # this function provides the test case of magnetic flux signal created by a motor with a speed of\n",
    "    # speed = 10 + 2 * varSpeedFun, where varSpeedFun goes from 0 at the edges of the signal to 1 at the centre.\n",
    "\n",
    "    # sampling rate [samples / sec]\n",
    "    fs = 10 ** 4\n",
    "    # sampling time [seconds]\n",
    "    T = 4\n",
    "    # nominal speed - cycles / sec\n",
    "    nominalSpeed = 0.5\n",
    "    # maximal additional speed [cycles / sec]\n",
    "    additionalSpeed = 3\n",
    "\n",
    "    # time vector\n",
    "    t = np.arange(0, T, 1 / fs)\n",
    "    # additional speed phase\n",
    "    speedVarPhase = t * 2 * np.pi / T\n",
    "    # additional speed function\n",
    "    speedVariation = (1 - np.cos(speedVarPhase)) * 0.5\n",
    "#     speedVariation = t / T\n",
    "    # speed vector\n",
    "    speed = nominalSpeed + additionalSpeed * speedVariation\n",
    "    # shaft phase by integration of the shaft speed [cycles]\n",
    "    phase = np.cumsum(speed) / fs\n",
    "    # simulation of the magnetic flux\n",
    "    xMagnetic = np.sin(phase * 2 * np.pi)\n",
    "    # output packing\n",
    "    testParams = {\n",
    "        'fs': fs,\n",
    "        'speed': speed,\n",
    "        'xMagnetic': xMagnetic,\n",
    "    }\n",
    "    return testParams"
   ]
  },
  {
   "cell_type": "code",
   "execution_count": null,
   "id": "88d484a8",
   "metadata": {},
   "outputs": [],
   "source": [
    "testParams = getTestCase()"
   ]
  },
  {
   "cell_type": "code",
   "execution_count": null,
   "id": "6a25a115",
   "metadata": {},
   "outputs": [],
   "source": [
    "t = np.arange(0, 4, 1 / testParams['fs'])\n",
    "plt.plot(t, testParams['speed'])\n",
    "plt.ylabel('Speed [cycles/sec]', fontsize=30)\n",
    "plt.xlabel('Time [sec]', fontsize=30)\n",
    "ax = plt.gca()\n",
    "ax.set_xticklabels([])\n",
    "ax.set_yticklabels([])\n",
    "ax.grid(True)"
   ]
  },
  {
   "cell_type": "code",
   "execution_count": null,
   "id": "4e55cfc7",
   "metadata": {},
   "outputs": [],
   "source": [
    "phase = np.cumsum(testParams['speed']) / testParams['fs']\n",
    "plt.plot(phase, t)\n",
    "plt.grid()\n",
    "plt.ylabel('New Time', fontsize=30)\n",
    "plt.xlabel('New Phase', fontsize=30)\n",
    "ax = plt.gca()\n",
    "ax.set_yticklabels([])\n",
    "ax.set_xticklabels([])\n",
    "ax.grid(True)"
   ]
  },
  {
   "cell_type": "code",
   "execution_count": null,
   "id": "204089bc",
   "metadata": {},
   "outputs": [],
   "source": [
    "phase = np.cumsum(testParams['speed']) / testParams['fs']\n",
    "plt.plot(phase, phase)\n",
    "# plt.grid()\n",
    "plt.ylabel('New Phase', fontsize=30)\n",
    "plt.xlabel('Sample index', fontsize=30)\n",
    "ax = plt.gca()\n",
    "ax.set_xticklabels([])\n",
    "ax.set_yticklabels([])\n",
    "# ax.grid(True)"
   ]
  },
  {
   "cell_type": "code",
   "execution_count": null,
   "id": "c9fcf51d",
   "metadata": {},
   "outputs": [],
   "source": [
    "sig = np.sin(phase * 2 * np.pi) + np.sin(phase * 2 * np.pi * 2) + np.sin(phase * 2 * np.pi * 3)"
   ]
  },
  {
   "cell_type": "code",
   "execution_count": null,
   "id": "8f67973b",
   "metadata": {},
   "outputs": [],
   "source": [
    "plt.plot(t, np.sin(phase * 2 * np.pi))\n",
    "plt.xlabel('Time [sec]', fontsize=30)\n",
    "ax = plt.gca()\n",
    "ax.set_xticklabels([])\n",
    "ax.set_yticklabels([])\n",
    "ax.grid(True)"
   ]
  },
  {
   "cell_type": "code",
   "execution_count": null,
   "id": "48b02023",
   "metadata": {},
   "outputs": [],
   "source": [
    "plt.plot(t, sig)\n",
    "plt.xlabel('Time [sec]', fontsize=30)\n",
    "ax = plt.gca()\n",
    "ax.set_xticklabels([])\n",
    "ax.set_yticklabels([])\n",
    "ax.grid(True)"
   ]
  },
  {
   "cell_type": "code",
   "execution_count": null,
   "id": "4e4cc046",
   "metadata": {},
   "outputs": [],
   "source": [
    "plt.plot(phase, sig)\n",
    "plt.xlabel('Phase [cycles]', fontsize=30)\n",
    "ax = plt.gca()\n",
    "ax.set_xticklabels([])\n",
    "ax.set_yticklabels([])\n",
    "ax.grid(True)"
   ]
  }
 ],
 "metadata": {
  "kernelspec": {
   "display_name": "Python 3 (ipykernel)",
   "language": "python",
   "name": "python3"
  },
  "language_info": {
   "codemirror_mode": {
    "name": "ipython",
    "version": 3
   },
   "file_extension": ".py",
   "mimetype": "text/x-python",
   "name": "python",
   "nbconvert_exporter": "python",
   "pygments_lexer": "ipython3",
   "version": "3.9.8"
  }
 },
 "nbformat": 4,
 "nbformat_minor": 5
}
