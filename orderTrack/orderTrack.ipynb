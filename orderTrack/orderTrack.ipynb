{
 "cells": [
  {
   "cell_type": "markdown",
   "id": "66064002",
   "metadata": {},
   "source": [
    "## Example for implementation of Spectrum estimation based on the Order Tracking\n",
    "\n",
    "My objective is to increase the coverage for machines with unstable operational conditions (load and torque). I have bumped into a crane with an unstable operational speed. For this case, I want to use Order Tracking, allowing further utilization of the already implemented spectrum analysis tools. Later, I think that we can use this technique for other equipment too. "
   ]
  },
  {
   "cell_type": "code",
   "execution_count": null,
   "id": "f2ce2ba0",
   "metadata": {},
   "outputs": [],
   "source": [
    "from glob import glob\n",
    "import numpy as np\n",
    "import matplotlib.pyplot as plt\n",
    "# %matplotlib notebook\n",
    "figsize=[15, 5]\n",
    "from scipy.signal import ellip, sosfreqz, sosfiltfilt, periodogram\n",
    "from orderTrack import orderTrack, getSpeed"
   ]
  },
  {
   "cell_type": "markdown",
   "id": "48a2bce6",
   "metadata": {},
   "source": [
    "The magnetic file names"
   ]
  },
  {
   "cell_type": "code",
   "execution_count": null,
   "id": "eaeb3d47",
   "metadata": {},
   "outputs": [],
   "source": [
    "files = glob('../60f5e7b1502edc0001230701/*magnetic*')\n",
    "files"
   ]
  },
  {
   "cell_type": "code",
   "execution_count": null,
   "id": "ca238430",
   "metadata": {},
   "outputs": [],
   "source": [
    "def plotFiltResponse(sos, fs):\n",
    "    w, h = sosfreqz(sos, fs=fs, worN=200000)\n",
    "    dispCond = w < 20\n",
    "    plt.figure(figsize=figsize)\n",
    "    plt.plot(w[dispCond], abs(h[dispCond]))\n",
    "    plt.title('Filter frequency response')\n",
    "    plt.xlabel('Frequency [radians / second]')\n",
    "    plt.ylabel('Amplitude')\n",
    "    plt.grid()\n",
    "    plt.show()"
   ]
  },
  {
   "cell_type": "markdown",
   "id": "e3c0c23d",
   "metadata": {},
   "source": [
    "Magnetic file where the engine is on"
   ]
  },
  {
   "cell_type": "code",
   "execution_count": null,
   "id": "9a4dcdba",
   "metadata": {
    "scrolled": false
   },
   "outputs": [],
   "source": [
    "filesMagnetic = []\n",
    "for file in files:\n",
    "    x = np.load(file)\n",
    "    if 'sos' not in locals():\n",
    "        fs = 1 / x[0, 1]\n",
    "        sosHigh = ellip(8, 1, 40, 2, btype='high', output='sos', fs=fs)\n",
    "#         plotFiltResponse(sos, fs)\n",
    "    temp = sosfiltfilt(sosHigh, x[1, :])  \n",
    "    # looking for a file with activity\n",
    "    cond1 = (np.percentile(temp, 80) - np.percentile(temp, 20)) > 0.5\n",
    "    cond2 = x[1, :].mean() < 100\n",
    "    if (cond1 & cond2):\n",
    "        filesMagnetic.append(file)\n",
    "len(filesMagnetic)"
   ]
  },
  {
   "cell_type": "markdown",
   "id": "06b0c16a",
   "metadata": {},
   "source": [
    "Packing the data of the vibration signals with magnetic signal"
   ]
  },
  {
   "cell_type": "code",
   "execution_count": null,
   "id": "43eff28f",
   "metadata": {
    "scrolled": false
   },
   "outputs": [],
   "source": [
    "for fileMagnetic in filesMagnetic:\n",
    "    print(fileMagnetic)\n",
    "    filesVib = glob(fileMagnetic.split('_plane_')[0] + '*vibration*')\n",
    "    xVibration = np.concatenate([np.atleast_2d(np.load(file)[1, :]) for file in filesVib]).T\n",
    "    xVibration -= xVibration.mean(axis=0)\n",
    "    tVibration = np.load(filesVib[0])[0, :]\n",
    "    \n",
    "    x = np.load(fileMagnetic)\n",
    "    tMagnetic = x[0, :]\n",
    "    xMagnetic = x[1, :]\n",
    "    fs = 1 / tMagnetic[1]\n",
    "    \n",
    "    plt.figure(figsize=figsize)\n",
    "    plt.plot(tMagnetic, xMagnetic)\n",
    "    plt.xlabel('Time [sec]')\n",
    "    plt.ylabel('Magnetic flux')\n",
    "    plt.show()\n",
    "    \n",
    "    speed, speedTime = getSpeed(xMagnetic, fs, isPlot=True, figsize=figsize)\n",
    "    resampledPhase, resampledMagnetic, _, _, _, _ = orderTrack(xMagnetic, tMagnetic, speed, speedTime)\n",
    "    \n",
    "    plt.figure(figsize=figsize)\n",
    "    \n",
    "    resampFs = 1 / (resampledPhase[1] - resampledPhase[0])\n",
    "    f, Pxx_den = periodogram(resampledMagnetic, resampFs, window='hanning')\n",
    "    plt.semilogy(f, Pxx_den)\n",
    "    f, Pxx_den = periodogram(xMagnetic, fs / speed.mean(), window='hanning')\n",
    "    plt.semilogy(f, Pxx_den)\n",
    "    plt.legend(['Resampled signal', 'Original signal'])\n",
    "    plt.xlabel('Shaft Speed Order [-] / Frequency normalized by mean speed')\n",
    "    plt.ylabel('PSD [V**2]')\n",
    "    plt.xlim([0, 10])\n",
    "    plt.xticks(np.arange(11))\n",
    "    plt.grid()\n",
    "    plt.show()\n",
    "    \n",
    "    resampledPhase, resampledVibration, t, _, _, _ = orderTrack(xVibration, tVibration, speed, speedTime)\n",
    "    fs = 1 / tVibration[1]\n",
    "    resampFs = 1 / (resampledPhase[1] - resampledPhase[0])\n",
    "    \n",
    "    for iSig in np.arange(resampledVibration.shape[1]):\n",
    "        plt.figure(figsize=figsize)\n",
    "        \n",
    "        f, Pxx_den = periodogram(resampledVibration[:, iSig], resampFs, window='hanning')\n",
    "        plt.plot(f, Pxx_den)\n",
    "        f, Pxx_den = periodogram(xVibration[:, iSig], fs / speed.mean(), window='hanning')\n",
    "        plt.plot(f, Pxx_den)\n",
    "        plt.legend(['Resampled signal', 'Original signal'])\n",
    "        plt.xlabel('Shaft Speed Order [-] / Frequency normalized by mean speed')\n",
    "        plt.ylabel('PSD [V**2]')\n",
    "        plt.xlim([0, 30])\n",
    "        plt.xticks(np.arange(30))\n",
    "        plt.grid()\n",
    "        plt.show()"
   ]
  },
  {
   "cell_type": "markdown",
   "id": "6f616399",
   "metadata": {},
   "source": [
    "For non-stationary cases, we can see an improvement in the spectrum elements' decomposition. Besides that, we can see the following improvements:\n",
    "1. Reduction in the dc noise (probably from the hardware). Why?\n",
    "2. Reduction in the leakage (this one is yet pending improvement). Have been seen in multiple locations (see the last magnetic signal spectrum). This probably happens due to the trimming of the signal at the precise multiplication of the cycle.\n",
    "3. Concentration of the energy in the integration points, located at the harmonics of the shaft speed order.\n",
    "\n",
    "Points to improve:\n",
    "1. Trimming of the signal where the machine is off.\n",
    "2. figure out why we have DC."
   ]
  }
 ],
 "metadata": {
  "kernelspec": {
   "display_name": "Python 3 (ipykernel)",
   "language": "python",
   "name": "python3"
  },
  "language_info": {
   "codemirror_mode": {
    "name": "ipython",
    "version": 3
   },
   "file_extension": ".py",
   "mimetype": "text/x-python",
   "name": "python",
   "nbconvert_exporter": "python",
   "pygments_lexer": "ipython3",
   "version": "3.9.8"
  }
 },
 "nbformat": 4,
 "nbformat_minor": 5
}
