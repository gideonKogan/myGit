{
 "cells": [
  {
   "cell_type": "markdown",
   "id": "66064002",
   "metadata": {},
   "source": [
    "## Example for implementation of Spectrum estimation based on the Order Tracking\n",
    "\n",
    "My objective is to increase the coverage for machines with unstable operational conditions (load and torque). I have bumped into a crane with an unstable operational speed. For this case, I want to use Order Tracking, allowing further utilization of the already implemented spectrum analysis tools. Later, I think that we can use this technique for other equipment too. "
   ]
  },
  {
   "cell_type": "code",
   "execution_count": null,
   "id": "f2ce2ba0",
   "metadata": {},
   "outputs": [],
   "source": [
    "from glob import glob\n",
    "import numpy as np\n",
    "import matplotlib.pyplot as plt\n",
    "# %matplotlib notebook\n",
    "figsize=[19, 5]\n",
    "from scipy.signal import ellip, sosfreqz, sosfiltfilt, periodogram\n",
    "from orderTrack import orderTrack, getSpeed"
   ]
  },
  {
   "cell_type": "markdown",
   "id": "48a2bce6",
   "metadata": {},
   "source": [
    "The magnetic file names"
   ]
  },
  {
   "cell_type": "code",
   "execution_count": null,
   "id": "eaeb3d47",
   "metadata": {},
   "outputs": [],
   "source": [
    "files = glob('data/*/*magnetic*')\n",
    "files"
   ]
  },
  {
   "cell_type": "code",
   "execution_count": null,
   "id": "ca238430",
   "metadata": {},
   "outputs": [],
   "source": [
    "def plotFiltResponse(sos, fs):\n",
    "    w, h = sosfreqz(sos, fs=fs, worN=200000)\n",
    "    dispCond = w < 20\n",
    "    plt.figure(figsize=figsize)\n",
    "    plt.plot(w[dispCond], abs(h[dispCond]))\n",
    "    plt.title('Filter frequency response')\n",
    "    plt.xlabel('Frequency [radians / second]')\n",
    "    plt.ylabel('Amplitude')\n",
    "    plt.grid()\n",
    "    plt.show()"
   ]
  },
  {
   "cell_type": "markdown",
   "id": "e3c0c23d",
   "metadata": {},
   "source": [
    "Magnetic file where the engine is on"
   ]
  },
  {
   "cell_type": "code",
   "execution_count": null,
   "id": "9a4dcdba",
   "metadata": {
    "scrolled": false
   },
   "outputs": [],
   "source": [
    "import os\n",
    "filesMagnetic = []\n",
    "for file in files:\n",
    "    x = np.load(file)\n",
    "    if 'sos' not in locals():\n",
    "        fs = 1 / x[0, 1]\n",
    "        sosHigh = ellip(8, 1, 40, 2, btype='high', output='sos', fs=fs)\n",
    "#         plotFiltResponse(sos, fs)\n",
    "    temp = sosfiltfilt(sosHigh, x[1, :])  \n",
    "    # looking for a file with activity\n",
    "    cond1 = (np.percentile(temp, 80) - np.percentile(temp, 20)) > 0.5\n",
    "    cond2 = x[1, :].mean() < 100\n",
    "    if (cond1 & cond2):\n",
    "        filesMagnetic.append(file)\n",
    "    else:\n",
    "        for file in glob(file.split('_plane_')[0] + '*'):\n",
    "            os.remove(file) \n",
    "len(filesMagnetic)"
   ]
  },
  {
   "cell_type": "markdown",
   "id": "06b0c16a",
   "metadata": {},
   "source": [
    "Packing the data of the vibration signals with magnetic signal"
   ]
  },
  {
   "cell_type": "code",
   "execution_count": null,
   "id": "43eff28f",
   "metadata": {
    "scrolled": false
   },
   "outputs": [],
   "source": [
    "for fileMagnetic in filesMagnetic:\n",
    "    print(fileMagnetic)\n",
    "    filesVib = glob(fileMagnetic.split('_plane_')[0] + '*vibration*')\n",
    "    vibData = [np.atleast_2d(np.load(file)[1, :]) for file in filesVib]\n",
    "    if np.all(np.diff([d.shape[1] for d in vibData]) == 0):\n",
    "        xVibration = np.concatenate(vibData).T\n",
    "    else:\n",
    "        print(\"size differences in the vibration files of \" + fileMagnetic)\n",
    "        continue\n",
    "    xVibration -= xVibration.mean(axis=0)\n",
    "    tVibration = np.load(filesVib[0])[0, :]\n",
    "    \n",
    "    x = np.load(fileMagnetic)\n",
    "    tMagnetic = x[0, :]\n",
    "    xMagnetic = x[1, :]\n",
    "    fs = 1 / tMagnetic[1]\n",
    "    \n",
    "    plt.figure(figsize=figsize)\n",
    "    plt.plot(tMagnetic, xMagnetic)\n",
    "    plt.xlabel('Time [sec]')\n",
    "    plt.ylabel('Magnetic flux')\n",
    "    plt.grid()\n",
    "    plt.show()\n",
    "    \n",
    "    speed, speedTime = getSpeed(xMagnetic, fs, isPlot=True, figsize=figsize)\n",
    "    if speed is None:\n",
    "        continue\n",
    "    resampledMagnetic, resampledPhase, _, _, _, _ = orderTrack(xMagnetic, tMagnetic, speed, speedTime)\n",
    "    \n",
    "    plt.figure(figsize=figsize)\n",
    "    \n",
    "    resampFs = 1 / (resampledPhase[1] - resampledPhase[0])\n",
    "    f, Pxx_den = periodogram(resampledMagnetic, resampFs, window='hanning')\n",
    "    plt.semilogy(f, Pxx_den)\n",
    "    f, Pxx_den = periodogram(xMagnetic, fs / speed.mean(), window='hanning')\n",
    "    plt.semilogy(f, Pxx_den)\n",
    "    plt.legend(['Resampled signal', 'Original signal'])\n",
    "    plt.xlabel('Shaft Speed Order [-] / Frequency normalized by mean speed')\n",
    "    plt.ylabel('PSD [V**2]')\n",
    "    plt.xlim([0, 10])\n",
    "    plt.xticks(np.arange(11))\n",
    "    plt.grid()\n",
    "    plt.show()\n",
    "    \n",
    "    resampledVibration, resampledPhase, _, _, _, _ = orderTrack(xVibration, tVibration, speed, speedTime)\n",
    "    fs = 1 / tVibration[1]\n",
    "    resampFs = 1 / (resampledPhase[1] - resampledPhase[0])\n",
    "    \n",
    "    for iSig in np.arange(resampledVibration.shape[1]):\n",
    "        plt.figure(figsize=figsize)\n",
    "        \n",
    "        f, Pxx_den = periodogram(resampledVibration[:, iSig], resampFs, window='hanning')\n",
    "        plt.plot(f, Pxx_den)\n",
    "        f, Pxx_den = periodogram(xVibration[:, iSig], fs / speed.mean(), window='hanning')\n",
    "        plt.plot(f, Pxx_den)\n",
    "        plt.legend(['Resampled signal', 'Original signal'])\n",
    "        plt.xlabel('Shaft Speed Order [-] / Frequency normalized by mean speed')\n",
    "        plt.ylabel('PSD [V**2]')\n",
    "        plt.xlim([0, 30])\n",
    "        plt.xticks(np.arange(30))\n",
    "        plt.grid()\n",
    "        plt.show()"
   ]
  },
  {
   "cell_type": "markdown",
   "id": "623e08a2",
   "metadata": {},
   "source": [
    "### cyclo-non-stationary analysis\n",
    "Following presented an attempt to integrate the cyclostationarity with the angular resampling inspired by \n",
    "Abboud, Dany, et al. \"The spectral analysis of cyclo-non-stationary signals.\" Mechanical Systems and Signal Processing (2016). It is yet not finished by it shows some potential..."
   ]
  },
  {
   "cell_type": "code",
   "execution_count": null,
   "id": "58f3bf31",
   "metadata": {},
   "outputs": [],
   "source": [
    "from scipy.signal import spectrogram\n",
    "from scipy.fft import fftfreq, fft\n",
    "\n",
    "def getThresh(x, nSTD=5):\n",
    "    return np.std(x) * nSTD + np.median(x)\n",
    "\n",
    "def getEESpec(CS):\n",
    "    CS[CS < getThresh(CS)] = 0\n",
    "    return CS.sum(axis=0)\n",
    "\n",
    "def getCCoh(x, fs, norm=True, speed=np.nan, speedTime=np.nan):\n",
    "    f, t, Sxx = spectrogram(x,\n",
    "                            fs=fs, window='hann', \n",
    "                            nperseg=64, noverlap=32, nfft=256, \n",
    "                            detrend='constant', return_onesided=True, \n",
    "                            scaling='density', mode='psd')\n",
    "    \n",
    "    if not np.isnan(speed).all():\n",
    "        Sxx, t, _, _, _, _ = orderTrack(Sxx, t, speed, speedTime)\n",
    "        Sxx = Sxx.T\n",
    "    \n",
    "    fMod = fftfreq(t.shape[0], d=t[1] - t[0])\n",
    "    SxxDetrend = Sxx - np.atleast_2d(Sxx.mean(axis=1)).T\n",
    "    CS = np.abs(fft(SxxDetrend, t.shape[0], norm='forward'))\n",
    "    if norm:\n",
    "        CS = np.abs(CS / np.atleast_2d(np.median(CS, axis=1)).T)\n",
    "    CS[f < 1000, :] = 0\n",
    "    return fMod, f, CS"
   ]
  },
  {
   "cell_type": "code",
   "execution_count": null,
   "id": "3558185d",
   "metadata": {
    "scrolled": false
   },
   "outputs": [],
   "source": [
    "fs = 1 / tVibration[1]\n",
    "for a in range(3):\n",
    "    fMod, f, CCoh = getCCoh(xVibration[:, a], fs)\n",
    "\n",
    "    cond = fMod > 0\n",
    "    vminVal = np.min(CCoh)\n",
    "    vmaxVal = np.percentile(CCoh, 99.95)\n",
    "    fMod = fMod[cond]\n",
    "    CCoh = CCoh[:, cond]\n",
    "    \n",
    "    plt.figure(figsize=figsize)\n",
    "    plt.pcolormesh(fMod, f, CCoh, vmin = vminVal, vmax = vmaxVal)\n",
    "    plt.ylabel('Carrier Frequency [Hz]')\n",
    "    plt.xlabel(r'Modulation Frequency [Hz]')\n",
    "    plt.show()\n",
    "    \n",
    "    fMod2, f2, CCoh2 = getCCoh(xVibration[:, a], fs, True, speed, speedTime)\n",
    "\n",
    "    cond = fMod2 > 0\n",
    "    vminVal2 = np.min(CCoh2)\n",
    "    vmaxVal2 = np.percentile(CCoh2, 99.95)\n",
    "    fMod2 = fMod2[cond]\n",
    "    CCoh2 = CCoh2[:, cond]\n",
    "    \n",
    "    plt.figure(figsize=figsize)\n",
    "    plt.pcolormesh(fMod2, f2, CCoh2, vmin = vminVal2, vmax = vmaxVal2)\n",
    "    plt.ylabel('Carrier Frequency [Hz]')\n",
    "    plt.xlabel(r'Modulation Shaft Speed Order [Hz]')\n",
    "    plt.show()\n",
    "    \n",
    "    plt.figure(figsize=figsize)\n",
    "    plt.plot(fMod2, getEESpec(CCoh2), linewidth=3)\n",
    "    plt.plot(fMod / speed.mean(), getEESpec(CCoh), linewidth=3)\n",
    "    plt.legend(['Resampled', 'Original'])\n",
    "    plt.ylabel('Enhanced Envelope Spectrum')\n",
    "    plt.xlabel(r'Modulation Shaft Speed Order [Hz]|Modulation Frequency [Hz]')\n",
    "    plt.xticks(np.arange(np.floor(fMod2[-1])))\n",
    "    plt.xlim([fMod2[0], fMod2[-1]])\n",
    "    plt.grid()\n",
    "    plt.show()"
   ]
  },
  {
   "cell_type": "markdown",
   "id": "6f616399",
   "metadata": {},
   "source": [
    "For non-stationary cases, we can see an improvement in the spectrum elements' decomposition. Besides that, we can see the following improvements:\n",
    "1. Reduction in the dc noise (probably from the hardware). Why?\n",
    "2. Reduction in the leakage (this one is yet pending improvement). Have been seen in multiple locations (see the last magnetic signal spectrum). This probably happens due to the trimming of the signal at the precise multiplication of the cycle.\n",
    "3. Concentration of the energy in the integration points, located at the harmonics of the shaft speed order.\n",
    "\n",
    "Points to improve:\n",
    "1. Trimming of the signal where the machine is off.\n",
    "2. figure out why we have DC."
   ]
  }
 ],
 "metadata": {
  "kernelspec": {
   "display_name": "Python 3 (ipykernel)",
   "language": "python",
   "name": "python3"
  },
  "language_info": {
   "codemirror_mode": {
    "name": "ipython",
    "version": 3
   },
   "file_extension": ".py",
   "mimetype": "text/x-python",
   "name": "python",
   "nbconvert_exporter": "python",
   "pygments_lexer": "ipython3",
   "version": "3.9.8"
  }
 },
 "nbformat": 4,
 "nbformat_minor": 5
}
