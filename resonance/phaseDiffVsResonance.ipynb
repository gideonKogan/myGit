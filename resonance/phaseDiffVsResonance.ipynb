{
 "cells": [
  {
   "cell_type": "code",
   "execution_count": null,
   "id": "e0906ec9",
   "metadata": {},
   "outputs": [],
   "source": [
    "import numpy as np\n",
    "import pandas as pd"
   ]
  },
  {
   "cell_type": "code",
   "execution_count": null,
   "id": "d6e60c68",
   "metadata": {},
   "outputs": [],
   "source": [
    "df = pd.read_csv('AHU-5 Supply Fan - driven_fan - bearing 1- 12_2_21 - 19_12.csv')\n",
    "df"
   ]
  },
  {
   "cell_type": "code",
   "execution_count": null,
   "id": "b383898d",
   "metadata": {},
   "outputs": [],
   "source": [
    "%matplotlib notebook\n",
    "import matplotlib.pyplot as plt\n",
    "from scipy.signal import medfilt\n",
    "\n",
    "f = np.fft.fftfreq(df.shape[0], df.iloc[1, 0])\n",
    "freq = np.fft.fft(df.iloc[:, 1])\n",
    "\n",
    "fig, ax1 = plt.subplots(figsize=[9.5, 5])\n",
    "ax1.vlines(16.8, 0, 1000, linestyles='dashed', color='k', linewidth=3)\n",
    "ax1.plot(f[f>0], np.abs(freq)[f>0], color='r')\n",
    "ax1.set_ylabel('Amp', color='r')\n",
    "ax1.grid(True)\n",
    "ax2 = ax1.twinx()\n",
    "ax2.plot(f[f>0], (np.angle(freq)[f>0] / np.pi * 180), color='b')\n",
    "# ax2.plot(f[f>0][:-1], np.diff(medfilt(np.angle(freq)[f>0] / np.pi * 180, 7)), color='g')\n",
    "ax2.set_ylabel('diff angle [deg]', color='b')\n",
    "ax2.set_xlim([0, 100])\n",
    "ax2.hlines(180, 0, 100, linestyles='dashed', color='k', linewidth=3)\n",
    "ax2.set_title('AHU-5 Supply Fan - driven_fan - bearing 1- 12_2_21 - 19_12.csv\\n12/02/21 - 07:00:05pm Driven Fan 3I')\n",
    "plt.show()"
   ]
  },
  {
   "cell_type": "code",
   "execution_count": null,
   "id": "6c82e3f1",
   "metadata": {},
   "outputs": [],
   "source": [
    "t = np.arange(0, 0.3, 1/ 20000)\n",
    "response = np.exp(- t * 50) *np.sin(2 * np.pi * 30 * t)\n",
    "plt.figure()\n",
    "plt.plot(t , response)\n",
    "plt.show()"
   ]
  },
  {
   "cell_type": "code",
   "execution_count": null,
   "id": "3849d1c5",
   "metadata": {},
   "outputs": [],
   "source": [
    "f = np.fft.fftfreq(50000, 1 / 20000)\n",
    "freq = np.fft.fft(response, 50000)\n",
    "\n",
    "plt.figure()\n",
    "plt.plot(f[f>0], np.abs(freq)[f>0])\n",
    "plt.show()"
   ]
  },
  {
   "cell_type": "code",
   "execution_count": null,
   "id": "2b8007ac",
   "metadata": {},
   "outputs": [],
   "source": [
    "t = np.arange(0, 4, 1 / 20000)\n",
    "dev = np.cumsum(np.abs(np.random.normal(0, 0.000005, t.shape[0])))\n",
    "x = np.sin(t * 2 * np.pi * (35.5 + dev))\n",
    "y = np.convolve(x, response, 'valid')\n",
    "y += np.random.normal(0, 10, y.shape[0])\n",
    "plt.figure()\n",
    "plt.plot(y)\n",
    "plt.show()\n",
    "\n",
    "f = np.fft.fftfreq(80000, 1 / 20000)\n",
    "freq = np.fft.fft(y, 80000)\n",
    "\n",
    "fig, ax1 = plt.subplots(figsize=[9.5, 5])\n",
    "# ax1.vlines(16.8, 0, 1000, linestyles='dashed', color='k', linewidth=3)\n",
    "ax1.plot(f[f>0], np.abs(freq)[f>0], color='r')\n",
    "ax1.set_ylabel('Amp', color='r')\n",
    "ax1.grid(True)\n",
    "ax2 = ax1.twinx()\n",
    "ax2.plot(f[f>0], medfilt(np.angle(freq)[f>0] / np.pi * 180, 3), color='b')\n",
    "# ax2.plot(f[f>0], (np.angle(freq)[f>0] / np.pi * 180), color='g')\n",
    "# ax2.set_ylabel('diff angle [deg]', color='b')\n",
    "# ax2.set_xlim([0, 100])\n",
    "# ax2.hlines(180, 0, 100, linestyles='dashed', color='k', linewidth=3)\n",
    "# ax2.set_title('AHU-5 Supply Fan - driven_fan - bearing 1- 12_2_21 - 19_12.csv\\n12/02/21 - 07:00:05pm Driven Fan 3I')\n",
    "plt.xlim([0, 50])\n",
    "plt.show()"
   ]
  },
  {
   "cell_type": "code",
   "execution_count": null,
   "id": "e07a6529",
   "metadata": {},
   "outputs": [],
   "source": []
  }
 ],
 "metadata": {
  "kernelspec": {
   "display_name": "Python 3 (ipykernel)",
   "language": "python",
   "name": "python3"
  },
  "language_info": {
   "codemirror_mode": {
    "name": "ipython",
    "version": 3
   },
   "file_extension": ".py",
   "mimetype": "text/x-python",
   "name": "python",
   "nbconvert_exporter": "python",
   "pygments_lexer": "ipython3",
   "version": "3.9.8"
  }
 },
 "nbformat": 4,
 "nbformat_minor": 5
}
